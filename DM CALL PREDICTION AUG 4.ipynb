{
    "nbformat_minor": 1, 
    "cells": [
        {
            "source": "# Applying Deep Learning to solve a Client Success problem - Duty Manager call prediction\n\nGOAL: predict tickets that will generate a Duty Manager (DM) call\n\n- ~1.5% of Db2 tickets generate DM calls; each call generates additional work/impedence for the customer, the analyst, and the Duty Manager\n- if we could predict which tickets will generate DM calls, and take proactive actions on those tickets (e.g. proactively call customer), all stakeholders benefit\n- train a simple deep learning model on Db2 ticket data Feb 1 - May 20, 2018\n- this notebook applies that model to tickets post May 20\n\nFEATURES:\n\n- categorical: CASE_OWNER_ALIAS, SUPPORT_MISSION, CREATED_BY, ACCOUNT_NAME, LEGACY_PROBLEM_NUMBER, SEVERITY_LEVEL_NUMBER_FORMULA, OPERATING_SYSTEM, PRODUCT_NAME, ACCOUNT_PRIORITY, PRODUCT_VERSION, BLUE_DIAMOND_ACCOUNT\n- continuous: OWNERSHIP_CHANGES\n- text: SUBJECT\n\nLABEL / TARGET:\n\n- will the ticket generate a DM call? 0 if no; 1 if yes\n\nCURRENT HWMs: 87% accuracy on validation; 81.5% on \"wild\" data\n\nNEXT STEPS TO TRY:\n\n- update model to incorporate DATE_OPENED feature\n- work out what it would take to deploy and maintain the model in production\n", 
            "cell_type": "markdown", 
            "metadata": {}
        }, 
        {
            "source": "# Links to key parts of the notebook <a name='linkanchor' />\n<a href=#ingestdash>Ingest data</a>\n\n<a href=#definecategories>Define feature categories</a>\n\n<a href=#bookmark>Deal with missing values</a>\n\n<a href=#modelfit>Define and fit model</a>\n\n<a href=#reload>Reload saved model and weights</a>\n\n<a href=#confusionmatrix>Confusion matrix</a>", 
            "cell_type": "markdown", 
            "metadata": {}
        }, 
        {
            "execution_count": 1, 
            "cell_type": "code", 
            "metadata": {}, 
            "outputs": [], 
            "source": "# set overall parameters\n\ndsxmode = False # overall is this being run in DSX?\ncsvmode = True # ingest from CSV\ndbmode = False # ingest from database\npSpace = True # pSpace mode\n\ntestproportion = 0.01 # proportion of data reserved for test set\ntrainproportion = 0.8 # proportion of non-test data dedicated to training (vs. validation)\nverboseout = True\nincludetext = True # switch to determine whether text fields are included in model\npresaved = False # switch to determine whether to train model or load saved model\nsavemodel = True # switch to determine whether to save model\npicklemodel = True # switch for code to allow pickling of Keras model\nhctextmax = 7000\nmaxwords = 6000\n\ntargetthresh = 6.0\nemptythresh = 6000\n# to address imbalance in training data between zero (above targetthresh) and detractor (below targetthresh) specify weight in compile and fit\n# class_weight = {0 : zero_weight, 1: one_weight}\n# consider calculating these values from actual skew rather than hard-coding them here\nzero_weight = 1.0\none_weight = 72.8\n\n# hyperparameters\nlearning_rate = 0.001\ndropout_rate = 0.0003 #0.003\nl2_lambda = 0.0003 #7.5\n"
        }, 
        {
            "execution_count": 2, 
            "cell_type": "code", 
            "metadata": {}, 
            "outputs": [], 
            "source": "import urllib.request\nrequest = urllib.request.urlopen('http://www.google.com/')\n#response = urllib.urlopen(request)\n#if response.getcode() == 200:\n#   print(\"200\")"
        }, 
        {
            "execution_count": 3, 
            "cell_type": "code", 
            "metadata": {}, 
            "outputs": [
                {
                    "output_type": "stream", 
                    "name": "stderr", 
                    "text": "/home/paperspace/anaconda3/envs/fastai/lib/python3.6/site-packages/sklearn/cross_validation.py:41: DeprecationWarning: This module was deprecated in version 0.18 in favor of the model_selection module into which all the refactored classes and functions are moved. Also note that the interface of the new CV iterators are different from that of this module. This module will be removed in 0.20.\n  \"This module will be removed in 0.20.\", DeprecationWarning)\nUsing TensorFlow backend.\n/home/paperspace/anaconda3/envs/fastai/lib/python3.6/importlib/_bootstrap.py:219: RuntimeWarning: compiletime version 3.5 of module 'tensorflow.python.framework.fast_tensor_util' does not match runtime version 3.6\n  return f(*args, **kwds)\n"
                }
            ], 
            "source": "# common imports\nimport zipfile\nimport pandas as pd\nimport numpy as np\nimport time\nimport datetime\nfrom dateutil import relativedelta\nfrom io import StringIO\nimport pandas as pd\nimport pickle\nfrom sklearn.base import BaseEstimator\nfrom sklearn.base import TransformerMixin\n# from sklearn.preprocessing import CategoricalEncoder\n\n# DSX code to import uploaded documents\nfrom io import StringIO\nimport requests\nimport json\nfrom sklearn.preprocessing import LabelEncoder, MinMaxScaler, StandardScaler\nfrom sklearn.cross_validation import train_test_split\n\nimport matplotlib.pyplot as plt\n%matplotlib inline \n\nimport math\nfrom subprocess import check_output\nimport seaborn as sns\n\n#model libraries\n\n\nfrom keras.layers import Input, Dropout, Dense, BatchNormalization, Activation, concatenate, GRU, Embedding, Flatten, BatchNormalization\nfrom keras.models import Model\nfrom keras.callbacks import ModelCheckpoint, Callback, EarlyStopping\nfrom keras import regularizers\nfrom keras.layers.normalization import BatchNormalization\nfrom keras.regularizers import l2\nfrom keras.optimizers import Adam\nfrom keras.optimizers import SGD\nfrom keras import backend as K\nfrom keras.utils.vis_utils import plot_model\n"
        }, 
        {
            "source": "# Ingest data <a name='ingestdash' />\n<a href=#linkanchor>Back to link list</a>", 
            "cell_type": "markdown", 
            "metadata": {}
        }, 
        {
            "execution_count": 4, 
            "cell_type": "code", 
            "metadata": {}, 
            "outputs": [], 
            "source": "# The code was removed by Watson Studio for sharing."
        }, 
        {
            "execution_count": 5, 
            "cell_type": "code", 
            "metadata": {}, 
            "outputs": [], 
            "source": "# The code was removed by Watson Studio for sharing."
        }, 
        {
            "execution_count": 6, 
            "cell_type": "code", 
            "metadata": {}, 
            "outputs": [], 
            "source": "if pSpace == True:    \n    dm_cases = pd.read_csv('/home/paperspace/data/dmprediction/dmcasesmay202018.csv',encoding = \"ISO-8859-1\")\n    merged_data = pd.read_csv('/home/paperspace/data/dmprediction/alldmeracasesmay20updatedjune2.csv',encoding = \"ISO-8859-1\")\n    superset_data = pd.read_csv('/home/paperspace/data/dmprediction/alldmeracasesjune2b2018.csv',encoding = \"ISO-8859-1\")\n    merged_data.columns = map(str.upper,merged_data.columns)\n    dm_cases.columns = map(str.upper,dm_cases.columns)\n    superset_data.columns = map(str.upper,superset_data.columns)\n\n"
        }, 
        {
            "execution_count": 7, 
            "cell_type": "code", 
            "metadata": {}, 
            "outputs": [
                {
                    "execution_count": 7, 
                    "metadata": {}, 
                    "data": {
                        "text/html": "<div>\n<style scoped>\n    .dataframe tbody tr th:only-of-type {\n        vertical-align: middle;\n    }\n\n    .dataframe tbody tr th {\n        vertical-align: top;\n    }\n\n    .dataframe thead th {\n        text-align: right;\n    }\n</style>\n<table border=\"1\" class=\"dataframe\">\n  <thead>\n    <tr style=\"text-align: right;\">\n      <th></th>\n      <th>CASE_NUMBER</th>\n      <th>CASE_OWNER_ALIAS</th>\n      <th>OPENED_DATE</th>\n      <th>SUPPORT_MISSION</th>\n      <th>PRODUCT_NAME</th>\n      <th>ACCOUNT_PRIORITY</th>\n      <th>OWNERSHIP_CHANGES</th>\n      <th>SEVERITY_LEVEL_NUMBER_FORMULA</th>\n      <th>ACCOUNT_NAME</th>\n      <th>BLUE_DIAMOND_ACCOUNT</th>\n      <th>PRODUCT_VERSION</th>\n      <th>OPERATING_SYSTEM</th>\n      <th>SUBJECT</th>\n      <th>CREATED_BY</th>\n      <th>LEGACY_PROBLEM_NUMBER</th>\n    </tr>\n  </thead>\n  <tbody>\n    <tr>\n      <th>0</th>\n      <td>TS000104648</td>\n      <td>CDel</td>\n      <td>02/01/2018</td>\n      <td>DB2 for LUW</td>\n      <td>Db2 Linux, Unix and Windows</td>\n      <td>Analytics-Industry</td>\n      <td>0</td>\n      <td>Severity 2</td>\n      <td>Marsh &amp; McLennan Companies, Inc.</td>\n      <td>No</td>\n      <td>10.5</td>\n      <td>NaN</td>\n      <td>DB2 running out of disk space during data-inte...</td>\n      <td>Angel Georgiev</td>\n      <td>Not Applicable</td>\n    </tr>\n    <tr>\n      <th>1</th>\n      <td>TS000104657</td>\n      <td>barr</td>\n      <td>02/01/2018</td>\n      <td>DB2 for LUW</td>\n      <td>Db2 Linux, Unix and Windows</td>\n      <td>NaN</td>\n      <td>1</td>\n      <td>Severity 2</td>\n      <td>SOUTH AFRICAN REVENUE SVCS</td>\n      <td>No</td>\n      <td>NaN</td>\n      <td>NaN</td>\n      <td>C-3/27-(0)-W4F 180205 insert and delete transa...</td>\n      <td>Support ETL</td>\n      <td>85,508,689,864</td>\n    </tr>\n    <tr>\n      <th>2</th>\n      <td>TS000104966</td>\n      <td>steffenh</td>\n      <td>02/01/2018</td>\n      <td>DB2 for LUW</td>\n      <td>Db2 Linux, Unix and Windows</td>\n      <td>NaN</td>\n      <td>1</td>\n      <td>Severity 3</td>\n      <td>SAP</td>\n      <td>No</td>\n      <td>10.5</td>\n      <td>NaN</td>\n      <td>SAP BCP 34020/2018 - DBA Cockpit Data Collecto...</td>\n      <td>Carola Langwald</td>\n      <td>Not Applicable</td>\n    </tr>\n    <tr>\n      <th>3</th>\n      <td>TS000105031</td>\n      <td>JKLA</td>\n      <td>02/01/2018</td>\n      <td>DB2 for LUW</td>\n      <td>Db2 Linux, Unix and Windows</td>\n      <td>NaN</td>\n      <td>1</td>\n      <td>Severity 2</td>\n      <td>SAP</td>\n      <td>No</td>\n      <td>10.5</td>\n      <td>NaN</td>\n      <td>SAP 47709/2018 - Productive Database db2 down ...</td>\n      <td>Malte Sch\u00fcnemann</td>\n      <td>Not Applicable</td>\n    </tr>\n    <tr>\n      <th>4</th>\n      <td>TS000105069</td>\n      <td>amri</td>\n      <td>02/01/2018</td>\n      <td>DB2 for LUW</td>\n      <td>Db2 Linux, Unix and Windows</td>\n      <td>Analytics-Commercial</td>\n      <td>0</td>\n      <td>Severity 2</td>\n      <td>INTERNATIONAL BUSINESS MACHINES</td>\n      <td>No</td>\n      <td>9.7</td>\n      <td>NaN</td>\n      <td>HADR tuning</td>\n      <td>Support ETL</td>\n      <td>94,575,082,000</td>\n    </tr>\n  </tbody>\n</table>\n</div>", 
                        "text/plain": "   CASE_NUMBER CASE_OWNER_ALIAS OPENED_DATE SUPPORT_MISSION  \\\n0  TS000104648             CDel  02/01/2018     DB2 for LUW   \n1  TS000104657             barr  02/01/2018     DB2 for LUW   \n2  TS000104966         steffenh  02/01/2018     DB2 for LUW   \n3  TS000105031             JKLA  02/01/2018     DB2 for LUW   \n4  TS000105069             amri  02/01/2018     DB2 for LUW   \n\n                  PRODUCT_NAME      ACCOUNT_PRIORITY  OWNERSHIP_CHANGES  \\\n0  Db2 Linux, Unix and Windows    Analytics-Industry                  0   \n1  Db2 Linux, Unix and Windows                   NaN                  1   \n2  Db2 Linux, Unix and Windows                   NaN                  1   \n3  Db2 Linux, Unix and Windows                   NaN                  1   \n4  Db2 Linux, Unix and Windows  Analytics-Commercial                  0   \n\n  SEVERITY_LEVEL_NUMBER_FORMULA                      ACCOUNT_NAME  \\\n0                    Severity 2  Marsh & McLennan Companies, Inc.   \n1                    Severity 2        SOUTH AFRICAN REVENUE SVCS   \n2                    Severity 3                               SAP   \n3                    Severity 2                               SAP   \n4                    Severity 2   INTERNATIONAL BUSINESS MACHINES   \n\n  BLUE_DIAMOND_ACCOUNT PRODUCT_VERSION OPERATING_SYSTEM  \\\n0                   No            10.5              NaN   \n1                   No             NaN              NaN   \n2                   No            10.5              NaN   \n3                   No            10.5              NaN   \n4                   No             9.7              NaN   \n\n                                             SUBJECT        CREATED_BY  \\\n0  DB2 running out of disk space during data-inte...    Angel Georgiev   \n1  C-3/27-(0)-W4F 180205 insert and delete transa...       Support ETL   \n2  SAP BCP 34020/2018 - DBA Cockpit Data Collecto...   Carola Langwald   \n3  SAP 47709/2018 - Productive Database db2 down ...  Malte Sch\u00fcnemann   \n4                                        HADR tuning       Support ETL   \n\n  LEGACY_PROBLEM_NUMBER  \n0        Not Applicable  \n1        85,508,689,864  \n2        Not Applicable  \n3        Not Applicable  \n4        94,575,082,000  "
                    }, 
                    "output_type": "execute_result"
                }
            ], 
            "source": "superset_data.head()"
        }, 
        {
            "execution_count": 8, 
            "cell_type": "code", 
            "metadata": {}, 
            "outputs": [
                {
                    "execution_count": 8, 
                    "metadata": {}, 
                    "data": {
                        "text/plain": "(104, 14)"
                    }, 
                    "output_type": "execute_result"
                }
            ], 
            "source": "dm_cases.shape"
        }, 
        {
            "execution_count": 9, 
            "cell_type": "code", 
            "metadata": {}, 
            "outputs": [
                {
                    "execution_count": 9, 
                    "metadata": {}, 
                    "data": {
                        "text/plain": "(7514, 15)"
                    }, 
                    "output_type": "execute_result"
                }
            ], 
            "source": "merged_data.shape"
        }, 
        {
            "execution_count": 10, 
            "cell_type": "code", 
            "metadata": {}, 
            "outputs": [
                {
                    "execution_count": 10, 
                    "metadata": {}, 
                    "data": {
                        "text/html": "<div>\n<style scoped>\n    .dataframe tbody tr th:only-of-type {\n        vertical-align: middle;\n    }\n\n    .dataframe tbody tr th {\n        vertical-align: top;\n    }\n\n    .dataframe thead th {\n        text-align: right;\n    }\n</style>\n<table border=\"1\" class=\"dataframe\">\n  <thead>\n    <tr style=\"text-align: right;\">\n      <th></th>\n      <th>CASE_NUMBER</th>\n      <th>SUBJECT</th>\n      <th>OWNER_LAST_NAME</th>\n      <th>ACCOUNT_NAME_TEXT</th>\n      <th>CONTACT_NAME</th>\n      <th>ACCOUNT_PRIORITY</th>\n      <th>LEGACY_PROBLEM_NUMBER</th>\n      <th>SEVERITY_LEVEL</th>\n      <th>CASE_OWNER_ALIAS</th>\n      <th>BLUE_DIAMOND_ACCOUNT</th>\n      <th>COUNTRY</th>\n      <th>WATSON_SKILL_SUGGESTION_(DEPRECATED)</th>\n      <th>STATUS</th>\n      <th>DATE_OPENED</th>\n      <th>target</th>\n    </tr>\n  </thead>\n  <tbody>\n    <tr>\n      <th>0</th>\n      <td>TS000003163</td>\n      <td>FMP exiting with error and HeadExtentID 260611...</td>\n      <td>Ma</td>\n      <td>BELASTINGDIENST CAO</td>\n      <td>Vannisselroy, Koen</td>\n      <td>Analytics-GEP</td>\n      <td>28,585,211,788</td>\n      <td>3 - Minor business impact</td>\n      <td>majason</td>\n      <td>No</td>\n      <td>NL</td>\n      <td>NaN</td>\n      <td>Closed by IBM</td>\n      <td>08/11/2017</td>\n      <td>1</td>\n    </tr>\n    <tr>\n      <th>1</th>\n      <td>TS000003166</td>\n      <td>W R db2 load process hang for loading 5.8T rec...</td>\n      <td>BADIGER</td>\n      <td>CA Franchise Tax Board</td>\n      <td>Jiang, Lily</td>\n      <td>NaN</td>\n      <td>65,923,227,000</td>\n      <td>2 - Significant impact (any system is down)</td>\n      <td>sbad</td>\n      <td>No</td>\n      <td>US</td>\n      <td>NaN</td>\n      <td>Closed - Archived</td>\n      <td>09/06/2017</td>\n      <td>1</td>\n    </tr>\n    <tr>\n      <th>2</th>\n      <td>TS000007186</td>\n      <td>UPDATE SYSSTAT.INDEXES hangs</td>\n      <td>Koranteng-Asante</td>\n      <td>Lloyds Banking Group Service Delivery, Group IT</td>\n      <td>Nelson, Philip</td>\n      <td>NaN</td>\n      <td>Not Applicable</td>\n      <td>2 - Significant impact (any system is down)</td>\n      <td>asan</td>\n      <td>No</td>\n      <td>GB</td>\n      <td>NaN</td>\n      <td>Closed - Archived</td>\n      <td>9/21/2017</td>\n      <td>1</td>\n    </tr>\n    <tr>\n      <th>3</th>\n      <td>TS000007630</td>\n      <td>Notified Load operation fails after revoking P...</td>\n      <td>Koranteng-Asante</td>\n      <td>STATE OF CONNECTICUT</td>\n      <td>McCabe, Barbara</td>\n      <td>Analytics-Industry</td>\n      <td>Not Applicable</td>\n      <td>2 - Significant impact (any system is down)</td>\n      <td>asan</td>\n      <td>No</td>\n      <td>US</td>\n      <td>NaN</td>\n      <td>Waiting for IBM</td>\n      <td>9/26/2017</td>\n      <td>1</td>\n    </tr>\n    <tr>\n      <th>4</th>\n      <td>TS000027965</td>\n      <td>Sporadic SQL SP slow performance due to invali...</td>\n      <td>Ma</td>\n      <td>21ST CENTURY INSURANCE AND FINANCIAL SERVICES</td>\n      <td>Pentyala, Dileep Kumar</td>\n      <td>Analytics-Industry</td>\n      <td>Not Applicable</td>\n      <td>2 - Significant impact (any system is down)</td>\n      <td>majason</td>\n      <td>No</td>\n      <td>US</td>\n      <td>NaN</td>\n      <td>Waiting for IBM</td>\n      <td>11/01/2017</td>\n      <td>1</td>\n    </tr>\n  </tbody>\n</table>\n</div>", 
                        "text/plain": "   CASE_NUMBER                                            SUBJECT  \\\n0  TS000003163  FMP exiting with error and HeadExtentID 260611...   \n1  TS000003166  W R db2 load process hang for loading 5.8T rec...   \n2  TS000007186                       UPDATE SYSSTAT.INDEXES hangs   \n3  TS000007630  Notified Load operation fails after revoking P...   \n4  TS000027965  Sporadic SQL SP slow performance due to invali...   \n\n    OWNER_LAST_NAME                                ACCOUNT_NAME_TEXT  \\\n0                Ma                              BELASTINGDIENST CAO   \n1           BADIGER                           CA Franchise Tax Board   \n2  Koranteng-Asante  Lloyds Banking Group Service Delivery, Group IT   \n3  Koranteng-Asante                             STATE OF CONNECTICUT   \n4                Ma    21ST CENTURY INSURANCE AND FINANCIAL SERVICES   \n\n             CONTACT_NAME    ACCOUNT_PRIORITY LEGACY_PROBLEM_NUMBER  \\\n0      Vannisselroy, Koen       Analytics-GEP        28,585,211,788   \n1             Jiang, Lily                 NaN        65,923,227,000   \n2          Nelson, Philip                 NaN        Not Applicable   \n3         McCabe, Barbara  Analytics-Industry        Not Applicable   \n4  Pentyala, Dileep Kumar  Analytics-Industry        Not Applicable   \n\n                                SEVERITY_LEVEL CASE_OWNER_ALIAS  \\\n0                    3 - Minor business impact          majason   \n1  2 - Significant impact (any system is down)             sbad   \n2  2 - Significant impact (any system is down)             asan   \n3  2 - Significant impact (any system is down)             asan   \n4  2 - Significant impact (any system is down)          majason   \n\n  BLUE_DIAMOND_ACCOUNT COUNTRY WATSON_SKILL_SUGGESTION_(DEPRECATED)  \\\n0                   No      NL                                  NaN   \n1                   No      US                                  NaN   \n2                   No      GB                                  NaN   \n3                   No      US                                  NaN   \n4                   No      US                                  NaN   \n\n              STATUS DATE_OPENED  target  \n0      Closed by IBM  08/11/2017       1  \n1  Closed - Archived  09/06/2017       1  \n2  Closed - Archived   9/21/2017       1  \n3    Waiting for IBM   9/26/2017       1  \n4    Waiting for IBM  11/01/2017       1  "
                    }, 
                    "output_type": "execute_result"
                }
            ], 
            "source": "# columns = ['Col1', 'Col2', ...]\n# df.drop(columns, inplace=True, axis=1)\ndm_cases[\"target\"] = 1\n\ndm_cases.head()"
        }, 
        {
            "execution_count": 11, 
            "cell_type": "code", 
            "metadata": {}, 
            "outputs": [
                {
                    "execution_count": 11, 
                    "metadata": {}, 
                    "data": {
                        "text/plain": "['ACCOUNT_PRIORITY',\n 'BLUE_DIAMOND_ACCOUNT',\n 'COUNTRY',\n 'SEVERITY_LEVEL',\n 'LEGACY_PROBLEM_NUMBER',\n 'ACCOUNT_NAME_TEXT',\n 'CONTACT_NAME',\n 'WATSON_SKILL_SUGGESTION_(DEPRECATED)',\n 'DATE_OPENED',\n 'OWNER_LAST_NAME',\n 'STATUS',\n 'CASE_OWNER_ALIAS',\n 'SUBJECT']"
                    }, 
                    "output_type": "execute_result"
                }
            ], 
            "source": "dmcollist = list(dm_cases)\ndmexlist = ['CASE_NUMBER','target']\n# collist = list(set(nontextcols) - set(excludefromcolist) - set(nearempty))\ndmcollist = list(set(dmcollist) - set(dmexlist))\ndmcollist"
        }, 
        {
            "execution_count": 12, 
            "cell_type": "code", 
            "metadata": {}, 
            "outputs": [
                {
                    "output_type": "stream", 
                    "name": "stdout", 
                    "text": "dm_cases cols post pruning ['CASE_NUMBER', 'target']\n"
                }
            ], 
            "source": "# df.drop(columns, inplace=True, axis=1)\ndm_cases.drop(dmcollist, inplace=True, axis=1)\nprint(\"dm_cases cols post pruning\",list(dm_cases))"
        }, 
        {
            "execution_count": 13, 
            "cell_type": "code", 
            "metadata": {}, 
            "outputs": [
                {
                    "execution_count": 13, 
                    "metadata": {}, 
                    "data": {
                        "text/plain": "1    104\nName: target, dtype: int64"
                    }, 
                    "output_type": "execute_result"
                }
            ], 
            "source": "dm_cases.target.value_counts()"
        }, 
        {
            "execution_count": 14, 
            "cell_type": "code", 
            "metadata": {}, 
            "outputs": [
                {
                    "execution_count": 14, 
                    "metadata": {}, 
                    "data": {
                        "text/plain": "(104, 2)"
                    }, 
                    "output_type": "execute_result"
                }
            ], 
            "source": "dm_cases.shape"
        }, 
        {
            "execution_count": 15, 
            "cell_type": "code", 
            "metadata": {}, 
            "outputs": [], 
            "source": "# merge the dm_cases dataframe with the overall cases dataframe\n# caller.join(other.set_index('key'), on='key')\n# merged_data = pd.merge(merged_data,dm_cases,on= 'CASE_NUMBER', how='outer')\n# merged_data = pd.merge(merged_data,dm_cases,on= 'CASE_NUMBER', how='inner')\nmerged_data = merged_data.join(dm_cases.set_index('CASE_NUMBER'), on = 'CASE_NUMBER')"
        }, 
        {
            "execution_count": 16, 
            "cell_type": "code", 
            "metadata": {}, 
            "outputs": [
                {
                    "execution_count": 16, 
                    "metadata": {}, 
                    "data": {
                        "text/plain": "(7514, 16)"
                    }, 
                    "output_type": "execute_result"
                }
            ], 
            "source": "merged_data.shape"
        }, 
        {
            "execution_count": 17, 
            "cell_type": "code", 
            "metadata": {}, 
            "outputs": [
                {
                    "execution_count": 17, 
                    "metadata": {}, 
                    "data": {
                        "text/html": "<div>\n<style scoped>\n    .dataframe tbody tr th:only-of-type {\n        vertical-align: middle;\n    }\n\n    .dataframe tbody tr th {\n        vertical-align: top;\n    }\n\n    .dataframe thead th {\n        text-align: right;\n    }\n</style>\n<table border=\"1\" class=\"dataframe\">\n  <thead>\n    <tr style=\"text-align: right;\">\n      <th></th>\n      <th>CASE_NUMBER</th>\n      <th>CASE_OWNER_ALIAS</th>\n      <th>OPENED_DATE</th>\n      <th>SUPPORT_MISSION</th>\n      <th>PRODUCT_NAME</th>\n      <th>ACCOUNT_PRIORITY</th>\n      <th>OWNERSHIP_CHANGES</th>\n      <th>SEVERITY_LEVEL_NUMBER_FORMULA</th>\n      <th>ACCOUNT_NAME</th>\n      <th>BLUE_DIAMOND_ACCOUNT</th>\n      <th>PRODUCT_VERSION</th>\n      <th>OPERATING_SYSTEM</th>\n      <th>SUBJECT</th>\n      <th>CREATED_BY</th>\n      <th>LEGACY_PROBLEM_NUMBER</th>\n      <th>target</th>\n    </tr>\n  </thead>\n  <tbody>\n    <tr>\n      <th>0</th>\n      <td>TS000104648</td>\n      <td>CDel</td>\n      <td>02/01/2018</td>\n      <td>DB2 for LUW</td>\n      <td>Db2 Linux, Unix and Windows</td>\n      <td>Analytics-Industry</td>\n      <td>0</td>\n      <td>Severity 2</td>\n      <td>Marsh &amp; McLennan Companies, Inc.</td>\n      <td>No</td>\n      <td>10.5</td>\n      <td>NaN</td>\n      <td>DB2 running out of disk space during data-inte...</td>\n      <td>Angel Georgiev</td>\n      <td>Not Applicable</td>\n      <td>NaN</td>\n    </tr>\n    <tr>\n      <th>1</th>\n      <td>TS000104657</td>\n      <td>barr</td>\n      <td>02/01/2018</td>\n      <td>DB2 for LUW</td>\n      <td>Db2 Linux, Unix and Windows</td>\n      <td>NaN</td>\n      <td>1</td>\n      <td>Severity 2</td>\n      <td>SOUTH AFRICAN REVENUE SVCS</td>\n      <td>No</td>\n      <td>NaN</td>\n      <td>NaN</td>\n      <td>C-3/27-(0)-W4F 180205 insert and delete transa...</td>\n      <td>Support ETL</td>\n      <td>85,508,689,864</td>\n      <td>NaN</td>\n    </tr>\n    <tr>\n      <th>2</th>\n      <td>TS000104966</td>\n      <td>steffenh</td>\n      <td>02/01/2018</td>\n      <td>DB2 for LUW</td>\n      <td>Db2 Linux, Unix and Windows</td>\n      <td>NaN</td>\n      <td>1</td>\n      <td>Severity 3</td>\n      <td>SAP</td>\n      <td>No</td>\n      <td>10.5</td>\n      <td>NaN</td>\n      <td>SAP BCP 34020/2018 - DBA Cockpit Data Collecto...</td>\n      <td>Carola Langwald</td>\n      <td>Not Applicable</td>\n      <td>NaN</td>\n    </tr>\n    <tr>\n      <th>3</th>\n      <td>TS000105031</td>\n      <td>JKLA</td>\n      <td>02/01/2018</td>\n      <td>DB2 for LUW</td>\n      <td>Db2 Linux, Unix and Windows</td>\n      <td>NaN</td>\n      <td>1</td>\n      <td>Severity 2</td>\n      <td>SAP</td>\n      <td>No</td>\n      <td>10.5</td>\n      <td>NaN</td>\n      <td>SAP 47709/2018 - Productive Database db2 down ...</td>\n      <td>Malte Sch\u00fcnemann</td>\n      <td>Not Applicable</td>\n      <td>NaN</td>\n    </tr>\n    <tr>\n      <th>4</th>\n      <td>TS000105069</td>\n      <td>amri</td>\n      <td>02/01/2018</td>\n      <td>DB2 for LUW</td>\n      <td>Db2 Linux, Unix and Windows</td>\n      <td>Analytics-Commercial</td>\n      <td>0</td>\n      <td>Severity 2</td>\n      <td>INTERNATIONAL BUSINESS MACHINES</td>\n      <td>No</td>\n      <td>9.7</td>\n      <td>NaN</td>\n      <td>HADR tuning</td>\n      <td>Support ETL</td>\n      <td>94,575,082,000</td>\n      <td>NaN</td>\n    </tr>\n  </tbody>\n</table>\n</div>", 
                        "text/plain": "   CASE_NUMBER CASE_OWNER_ALIAS OPENED_DATE SUPPORT_MISSION  \\\n0  TS000104648             CDel  02/01/2018     DB2 for LUW   \n1  TS000104657             barr  02/01/2018     DB2 for LUW   \n2  TS000104966         steffenh  02/01/2018     DB2 for LUW   \n3  TS000105031             JKLA  02/01/2018     DB2 for LUW   \n4  TS000105069             amri  02/01/2018     DB2 for LUW   \n\n                  PRODUCT_NAME      ACCOUNT_PRIORITY  OWNERSHIP_CHANGES  \\\n0  Db2 Linux, Unix and Windows    Analytics-Industry                  0   \n1  Db2 Linux, Unix and Windows                   NaN                  1   \n2  Db2 Linux, Unix and Windows                   NaN                  1   \n3  Db2 Linux, Unix and Windows                   NaN                  1   \n4  Db2 Linux, Unix and Windows  Analytics-Commercial                  0   \n\n  SEVERITY_LEVEL_NUMBER_FORMULA                      ACCOUNT_NAME  \\\n0                    Severity 2  Marsh & McLennan Companies, Inc.   \n1                    Severity 2        SOUTH AFRICAN REVENUE SVCS   \n2                    Severity 3                               SAP   \n3                    Severity 2                               SAP   \n4                    Severity 2   INTERNATIONAL BUSINESS MACHINES   \n\n  BLUE_DIAMOND_ACCOUNT PRODUCT_VERSION OPERATING_SYSTEM  \\\n0                   No            10.5              NaN   \n1                   No             NaN              NaN   \n2                   No            10.5              NaN   \n3                   No            10.5              NaN   \n4                   No             9.7              NaN   \n\n                                             SUBJECT        CREATED_BY  \\\n0  DB2 running out of disk space during data-inte...    Angel Georgiev   \n1  C-3/27-(0)-W4F 180205 insert and delete transa...       Support ETL   \n2  SAP BCP 34020/2018 - DBA Cockpit Data Collecto...   Carola Langwald   \n3  SAP 47709/2018 - Productive Database db2 down ...  Malte Sch\u00fcnemann   \n4                                        HADR tuning       Support ETL   \n\n  LEGACY_PROBLEM_NUMBER  target  \n0        Not Applicable     NaN  \n1        85,508,689,864     NaN  \n2        Not Applicable     NaN  \n3        Not Applicable     NaN  \n4        94,575,082,000     NaN  "
                    }, 
                    "output_type": "execute_result"
                }
            ], 
            "source": "merged_data.head()"
        }, 
        {
            "execution_count": 18, 
            "cell_type": "code", 
            "metadata": {}, 
            "outputs": [
                {
                    "execution_count": 18, 
                    "metadata": {}, 
                    "data": {
                        "text/plain": "1.0    84\nName: target, dtype: int64"
                    }, 
                    "output_type": "execute_result"
                }
            ], 
            "source": "merged_data.target.value_counts()"
        }, 
        {
            "execution_count": 19, 
            "cell_type": "code", 
            "metadata": {}, 
            "outputs": [
                {
                    "execution_count": 19, 
                    "metadata": {}, 
                    "data": {
                        "text/html": "<div>\n<style scoped>\n    .dataframe tbody tr th:only-of-type {\n        vertical-align: middle;\n    }\n\n    .dataframe tbody tr th {\n        vertical-align: top;\n    }\n\n    .dataframe thead th {\n        text-align: right;\n    }\n</style>\n<table border=\"1\" class=\"dataframe\">\n  <thead>\n    <tr style=\"text-align: right;\">\n      <th></th>\n      <th>CASE_NUMBER</th>\n      <th>CASE_OWNER_ALIAS</th>\n      <th>OPENED_DATE</th>\n      <th>SUPPORT_MISSION</th>\n      <th>PRODUCT_NAME</th>\n      <th>ACCOUNT_PRIORITY</th>\n      <th>OWNERSHIP_CHANGES</th>\n      <th>SEVERITY_LEVEL_NUMBER_FORMULA</th>\n      <th>ACCOUNT_NAME</th>\n      <th>BLUE_DIAMOND_ACCOUNT</th>\n      <th>PRODUCT_VERSION</th>\n      <th>OPERATING_SYSTEM</th>\n      <th>SUBJECT</th>\n      <th>CREATED_BY</th>\n      <th>LEGACY_PROBLEM_NUMBER</th>\n      <th>target</th>\n    </tr>\n  </thead>\n  <tbody>\n  </tbody>\n</table>\n</div>", 
                        "text/plain": "Empty DataFrame\nColumns: [CASE_NUMBER, CASE_OWNER_ALIAS, OPENED_DATE, SUPPORT_MISSION, PRODUCT_NAME, ACCOUNT_PRIORITY, OWNERSHIP_CHANGES, SEVERITY_LEVEL_NUMBER_FORMULA, ACCOUNT_NAME, BLUE_DIAMOND_ACCOUNT, PRODUCT_VERSION, OPERATING_SYSTEM, SUBJECT, CREATED_BY, LEGACY_PROBLEM_NUMBER, target]\nIndex: []"
                    }, 
                    "output_type": "execute_result"
                }
            ], 
            "source": "# df.loc[df['column_name'] == some_value]\nmessed = merged_data.loc[merged_data['SUPPORT_MISSION'].isna()]\nmessed.head(20)"
        }, 
        {
            "execution_count": 20, 
            "cell_type": "code", 
            "metadata": {}, 
            "outputs": [
                {
                    "execution_count": 20, 
                    "metadata": {}, 
                    "data": {
                        "text/plain": "0.0    7430\n1.0      84\nName: target, dtype: int64"
                    }, 
                    "output_type": "execute_result"
                }
            ], 
            "source": "# df['column']=df['column'].fillna(value)\nmerged_data['target']=merged_data['target'].fillna(0.0)\nmerged_data.target.value_counts()"
        }, 
        {
            "execution_count": 21, 
            "cell_type": "code", 
            "metadata": {}, 
            "outputs": [
                {
                    "execution_count": 21, 
                    "metadata": {}, 
                    "data": {
                        "text/plain": "(7514, 16)"
                    }, 
                    "output_type": "execute_result"
                }
            ], 
            "source": "merged_data.shape"
        }, 
        {
            "execution_count": 22, 
            "cell_type": "code", 
            "metadata": {}, 
            "outputs": [
                {
                    "execution_count": 22, 
                    "metadata": {}, 
                    "data": {
                        "text/html": "<div>\n<style scoped>\n    .dataframe tbody tr th:only-of-type {\n        vertical-align: middle;\n    }\n\n    .dataframe tbody tr th {\n        vertical-align: top;\n    }\n\n    .dataframe thead th {\n        text-align: right;\n    }\n</style>\n<table border=\"1\" class=\"dataframe\">\n  <thead>\n    <tr style=\"text-align: right;\">\n      <th></th>\n      <th>CASE_NUMBER</th>\n      <th>CASE_OWNER_ALIAS</th>\n      <th>OPENED_DATE</th>\n      <th>SUPPORT_MISSION</th>\n      <th>PRODUCT_NAME</th>\n      <th>ACCOUNT_PRIORITY</th>\n      <th>OWNERSHIP_CHANGES</th>\n      <th>SEVERITY_LEVEL_NUMBER_FORMULA</th>\n      <th>ACCOUNT_NAME</th>\n      <th>BLUE_DIAMOND_ACCOUNT</th>\n      <th>PRODUCT_VERSION</th>\n      <th>OPERATING_SYSTEM</th>\n      <th>SUBJECT</th>\n      <th>CREATED_BY</th>\n      <th>LEGACY_PROBLEM_NUMBER</th>\n      <th>target</th>\n    </tr>\n  </thead>\n  <tbody>\n    <tr>\n      <th>0</th>\n      <td>TS000104648</td>\n      <td>CDel</td>\n      <td>02/01/2018</td>\n      <td>DB2 for LUW</td>\n      <td>Db2 Linux, Unix and Windows</td>\n      <td>Analytics-Industry</td>\n      <td>0</td>\n      <td>Severity 2</td>\n      <td>Marsh &amp; McLennan Companies, Inc.</td>\n      <td>No</td>\n      <td>10.5</td>\n      <td>NaN</td>\n      <td>DB2 running out of disk space during data-inte...</td>\n      <td>Angel Georgiev</td>\n      <td>Not Applicable</td>\n      <td>0.0</td>\n    </tr>\n    <tr>\n      <th>1</th>\n      <td>TS000104657</td>\n      <td>barr</td>\n      <td>02/01/2018</td>\n      <td>DB2 for LUW</td>\n      <td>Db2 Linux, Unix and Windows</td>\n      <td>NaN</td>\n      <td>1</td>\n      <td>Severity 2</td>\n      <td>SOUTH AFRICAN REVENUE SVCS</td>\n      <td>No</td>\n      <td>NaN</td>\n      <td>NaN</td>\n      <td>C-3/27-(0)-W4F 180205 insert and delete transa...</td>\n      <td>Support ETL</td>\n      <td>85,508,689,864</td>\n      <td>0.0</td>\n    </tr>\n    <tr>\n      <th>2</th>\n      <td>TS000104966</td>\n      <td>steffenh</td>\n      <td>02/01/2018</td>\n      <td>DB2 for LUW</td>\n      <td>Db2 Linux, Unix and Windows</td>\n      <td>NaN</td>\n      <td>1</td>\n      <td>Severity 3</td>\n      <td>SAP</td>\n      <td>No</td>\n      <td>10.5</td>\n      <td>NaN</td>\n      <td>SAP BCP 34020/2018 - DBA Cockpit Data Collecto...</td>\n      <td>Carola Langwald</td>\n      <td>Not Applicable</td>\n      <td>0.0</td>\n    </tr>\n    <tr>\n      <th>3</th>\n      <td>TS000105031</td>\n      <td>JKLA</td>\n      <td>02/01/2018</td>\n      <td>DB2 for LUW</td>\n      <td>Db2 Linux, Unix and Windows</td>\n      <td>NaN</td>\n      <td>1</td>\n      <td>Severity 2</td>\n      <td>SAP</td>\n      <td>No</td>\n      <td>10.5</td>\n      <td>NaN</td>\n      <td>SAP 47709/2018 - Productive Database db2 down ...</td>\n      <td>Malte Sch\u00fcnemann</td>\n      <td>Not Applicable</td>\n      <td>0.0</td>\n    </tr>\n    <tr>\n      <th>4</th>\n      <td>TS000105069</td>\n      <td>amri</td>\n      <td>02/01/2018</td>\n      <td>DB2 for LUW</td>\n      <td>Db2 Linux, Unix and Windows</td>\n      <td>Analytics-Commercial</td>\n      <td>0</td>\n      <td>Severity 2</td>\n      <td>INTERNATIONAL BUSINESS MACHINES</td>\n      <td>No</td>\n      <td>9.7</td>\n      <td>NaN</td>\n      <td>HADR tuning</td>\n      <td>Support ETL</td>\n      <td>94,575,082,000</td>\n      <td>0.0</td>\n    </tr>\n  </tbody>\n</table>\n</div>", 
                        "text/plain": "   CASE_NUMBER CASE_OWNER_ALIAS OPENED_DATE SUPPORT_MISSION  \\\n0  TS000104648             CDel  02/01/2018     DB2 for LUW   \n1  TS000104657             barr  02/01/2018     DB2 for LUW   \n2  TS000104966         steffenh  02/01/2018     DB2 for LUW   \n3  TS000105031             JKLA  02/01/2018     DB2 for LUW   \n4  TS000105069             amri  02/01/2018     DB2 for LUW   \n\n                  PRODUCT_NAME      ACCOUNT_PRIORITY  OWNERSHIP_CHANGES  \\\n0  Db2 Linux, Unix and Windows    Analytics-Industry                  0   \n1  Db2 Linux, Unix and Windows                   NaN                  1   \n2  Db2 Linux, Unix and Windows                   NaN                  1   \n3  Db2 Linux, Unix and Windows                   NaN                  1   \n4  Db2 Linux, Unix and Windows  Analytics-Commercial                  0   \n\n  SEVERITY_LEVEL_NUMBER_FORMULA                      ACCOUNT_NAME  \\\n0                    Severity 2  Marsh & McLennan Companies, Inc.   \n1                    Severity 2        SOUTH AFRICAN REVENUE SVCS   \n2                    Severity 3                               SAP   \n3                    Severity 2                               SAP   \n4                    Severity 2   INTERNATIONAL BUSINESS MACHINES   \n\n  BLUE_DIAMOND_ACCOUNT PRODUCT_VERSION OPERATING_SYSTEM  \\\n0                   No            10.5              NaN   \n1                   No             NaN              NaN   \n2                   No            10.5              NaN   \n3                   No            10.5              NaN   \n4                   No             9.7              NaN   \n\n                                             SUBJECT        CREATED_BY  \\\n0  DB2 running out of disk space during data-inte...    Angel Georgiev   \n1  C-3/27-(0)-W4F 180205 insert and delete transa...       Support ETL   \n2  SAP BCP 34020/2018 - DBA Cockpit Data Collecto...   Carola Langwald   \n3  SAP 47709/2018 - Productive Database db2 down ...  Malte Sch\u00fcnemann   \n4                                        HADR tuning       Support ETL   \n\n  LEGACY_PROBLEM_NUMBER  target  \n0        Not Applicable     0.0  \n1        85,508,689,864     0.0  \n2        Not Applicable     0.0  \n3        Not Applicable     0.0  \n4        94,575,082,000     0.0  "
                    }, 
                    "output_type": "execute_result"
                }
            ], 
            "source": "merged_data.head()"
        }, 
        {
            "execution_count": 23, 
            "cell_type": "code", 
            "metadata": {}, 
            "outputs": [
                {
                    "output_type": "stream", 
                    "name": "stdout", 
                    "text": "md shape (7514, 16)\n"
                }
            ], 
            "source": "print(\"md shape\",merged_data.shape)"
        }, 
        {
            "execution_count": 24, 
            "cell_type": "code", 
            "metadata": {}, 
            "outputs": [
                {
                    "output_type": "stream", 
                    "name": "stdout", 
                    "text": "superset shape (8561, 15)\n"
                }
            ], 
            "source": "print(\"superset shape\",superset_data.shape)"
        }, 
        {
            "execution_count": 25, 
            "cell_type": "code", 
            "metadata": {}, 
            "outputs": [
                {
                    "execution_count": 25, 
                    "metadata": {}, 
                    "data": {
                        "text/plain": "<matplotlib.axes._subplots.AxesSubplot at 0x7fb2beccde10>"
                    }, 
                    "output_type": "execute_result"
                }, 
                {
                    "output_type": "display_data", 
                    "data": {
                        "image/png": "[encoded data removed]", 
                        "text/plain": "<matplotlib.figure.Figure at 0x7fb2bed0e828>"
                    }, 
                    "metadata": {}
                }
            ], 
            "source": "sns.heatmap(merged_data.isnull(), yticklabels=False, cbar=False, cmap='viridis')"
        }, 
        {
            "execution_count": 26, 
            "cell_type": "code", 
            "metadata": {}, 
            "outputs": [
                {
                    "output_type": "stream", 
                    "name": "stdout", 
                    "text": "[]\n"
                }
            ], 
            "source": "nearempty = []\nfor c in merged_data.columns:\n    if np.sum(merged_data[c].isnull()) >= emptythresh :\n        print(c)\n        nearempty.append(c)\nprint(nearempty)"
        }, 
        {
            "source": "# Clean up data\n\nGo through steps to prepare data.", 
            "cell_type": "markdown", 
            "metadata": {}
        }, 
        {
            "source": "# Define test / training sets; fill in missing values; encode categorical values; process text field", 
            "cell_type": "markdown", 
            "metadata": {}
        }, 
        {
            "execution_count": 27, 
            "cell_type": "code", 
            "metadata": {}, 
            "outputs": [], 
            "source": "# clean up LEGACY_PROBLEM_NUMBER\nmerged_data['LEGACY_PROBLEM_NUMBER'] = np.where(merged_data['LEGACY_PROBLEM_NUMBER'] == 'Not Applicable','Not Applicable','PMR')\nsuperset_data['LEGACY_PROBLEM_NUMBER'] = np.where(superset_data['LEGACY_PROBLEM_NUMBER'] == 'Not Applicable','Not Applicable','PMR')"
        }, 
        {
            "execution_count": 28, 
            "cell_type": "code", 
            "metadata": {}, 
            "outputs": [
                {
                    "output_type": "stream", 
                    "name": "stdout", 
                    "text": "Through train test split. Test proportion:\n0.01\n"
                }
            ], 
            "source": "# get training and test data set\n# test_size was 0.3 up to Jan 22\n\ntrain, test = train_test_split(merged_data, test_size = testproportion)\nprint(\"Through train test split. Test proportion:\")\nprint(testproportion)\n\n"
        }, 
        {
            "source": "# Define feature categories <a name='definecategories' />\n<a href=#linkanchor>Back to link list</a>", 
            "cell_type": "markdown", 
            "metadata": {}
        }, 
        {
            "execution_count": 29, 
            "cell_type": "code", 
            "metadata": {}, 
            "outputs": [
                {
                    "output_type": "stream", 
                    "name": "stdout", 
                    "text": "all cols ['CASE_NUMBER', 'CASE_OWNER_ALIAS', 'OPENED_DATE', 'SUPPORT_MISSION', 'PRODUCT_NAME', 'ACCOUNT_PRIORITY', 'OWNERSHIP_CHANGES', 'SEVERITY_LEVEL_NUMBER_FORMULA', 'ACCOUNT_NAME', 'BLUE_DIAMOND_ACCOUNT', 'PRODUCT_VERSION', 'OPERATING_SYSTEM', 'SUBJECT', 'CREATED_BY', 'LEGACY_PROBLEM_NUMBER', 'target']\n"
                }
            ], 
            "source": "allcols = list(merged_data)\nprint(\"all cols\",allcols)"
        }, 
        {
            "execution_count": 30, 
            "cell_type": "code", 
            "metadata": {}, 
            "outputs": [
                {
                    "output_type": "stream", 
                    "name": "stdout", 
                    "text": "allcols 16\nnearempty 0\n[]\nexcludefromcolist 3\n['CASE_NUMBER', 'target', 'OPENED_DATE']\ntextcols 1\n['SUBJECT']\ncontinuouscols 1\n['OWNERSHIP_CHANGES']\ncollist 11\n['OPERATING_SYSTEM', 'ACCOUNT_PRIORITY', 'BLUE_DIAMOND_ACCOUNT', 'SEVERITY_LEVEL_NUMBER_FORMULA', 'PRODUCT_VERSION', 'PRODUCT_NAME', 'SUPPORT_MISSION', 'CREATED_BY', 'ACCOUNT_NAME', 'LEGACY_PROBLEM_NUMBER', 'CASE_OWNER_ALIAS']\n"
                }
            ], 
            "source": "# define the required column lists\n\ntextcols = ['SUBJECT'] # columns to deal with as text - replace entries with multiple IDs and use embeddings, RNN\ncontinuouscols = ['OWNERSHIP_CHANGES'] # columns to deal with as continuous values - no embeddings\nexcludefromcolist = ['CASE_NUMBER','target','OPENED_DATE'] # columns to exclude completely from the model\n# list(set(temp1) - set(temp2))\nnontextcols = list(set(allcols) - set(textcols))\ncollist = list(set(nontextcols) - set(excludefromcolist) - set(nearempty) - set(continuouscols))\n\n# print column list lengths and contents:\nprint(\"allcols\",len(allcols))\nprint(\"nearempty\",len(nearempty))\nprint(nearempty)\nprint(\"excludefromcolist\",len(excludefromcolist))\nprint(excludefromcolist)\nprint(\"textcols\",len(textcols))\nprint(textcols)\nprint(\"continuouscols\",len(continuouscols))\nprint(continuouscols)\nprint(\"collist\",len(collist))\nprint(collist)"
        }, 
        {
            "execution_count": 31, 
            "cell_type": "code", 
            "metadata": {}, 
            "outputs": [
                {
                    "output_type": "stream", 
                    "name": "stdout", 
                    "text": "col is OWNERSHIP_CHANGES\ngot through one\n"
                }
            ], 
            "source": "# ensure continuous columns have numeric type\nfor col in continuouscols:\n    print(\"col is\",col)\n    merged_data[col] = merged_data[col].astype(float)\n    print(\"got through one\")\n    superset_data[col] = superset_data[col].astype(float)"
        }, 
        {
            "execution_count": 32, 
            "cell_type": "code", 
            "metadata": {}, 
            "outputs": [
                {
                    "execution_count": 32, 
                    "metadata": {}, 
                    "data": {
                        "text/html": "<div>\n<style scoped>\n    .dataframe tbody tr th:only-of-type {\n        vertical-align: middle;\n    }\n\n    .dataframe tbody tr th {\n        vertical-align: top;\n    }\n\n    .dataframe thead th {\n        text-align: right;\n    }\n</style>\n<table border=\"1\" class=\"dataframe\">\n  <thead>\n    <tr style=\"text-align: right;\">\n      <th></th>\n      <th>CASE_NUMBER</th>\n      <th>CASE_OWNER_ALIAS</th>\n      <th>OPENED_DATE</th>\n      <th>SUPPORT_MISSION</th>\n      <th>PRODUCT_NAME</th>\n      <th>ACCOUNT_PRIORITY</th>\n      <th>OWNERSHIP_CHANGES</th>\n      <th>SEVERITY_LEVEL_NUMBER_FORMULA</th>\n      <th>ACCOUNT_NAME</th>\n      <th>BLUE_DIAMOND_ACCOUNT</th>\n      <th>PRODUCT_VERSION</th>\n      <th>OPERATING_SYSTEM</th>\n      <th>SUBJECT</th>\n      <th>CREATED_BY</th>\n      <th>LEGACY_PROBLEM_NUMBER</th>\n    </tr>\n  </thead>\n  <tbody>\n    <tr>\n      <th>0</th>\n      <td>TS000104648</td>\n      <td>CDel</td>\n      <td>02/01/2018</td>\n      <td>DB2 for LUW</td>\n      <td>Db2 Linux, Unix and Windows</td>\n      <td>Analytics-Industry</td>\n      <td>0.0</td>\n      <td>Severity 2</td>\n      <td>Marsh &amp; McLennan Companies, Inc.</td>\n      <td>No</td>\n      <td>10.5</td>\n      <td>NaN</td>\n      <td>DB2 running out of disk space during data-inte...</td>\n      <td>Angel Georgiev</td>\n      <td>Not Applicable</td>\n    </tr>\n    <tr>\n      <th>1</th>\n      <td>TS000104657</td>\n      <td>barr</td>\n      <td>02/01/2018</td>\n      <td>DB2 for LUW</td>\n      <td>Db2 Linux, Unix and Windows</td>\n      <td>NaN</td>\n      <td>1.0</td>\n      <td>Severity 2</td>\n      <td>SOUTH AFRICAN REVENUE SVCS</td>\n      <td>No</td>\n      <td>NaN</td>\n      <td>NaN</td>\n      <td>C-3/27-(0)-W4F 180205 insert and delete transa...</td>\n      <td>Support ETL</td>\n      <td>PMR</td>\n    </tr>\n    <tr>\n      <th>2</th>\n      <td>TS000104966</td>\n      <td>steffenh</td>\n      <td>02/01/2018</td>\n      <td>DB2 for LUW</td>\n      <td>Db2 Linux, Unix and Windows</td>\n      <td>NaN</td>\n      <td>1.0</td>\n      <td>Severity 3</td>\n      <td>SAP</td>\n      <td>No</td>\n      <td>10.5</td>\n      <td>NaN</td>\n      <td>SAP BCP 34020/2018 - DBA Cockpit Data Collecto...</td>\n      <td>Carola Langwald</td>\n      <td>Not Applicable</td>\n    </tr>\n    <tr>\n      <th>3</th>\n      <td>TS000105031</td>\n      <td>JKLA</td>\n      <td>02/01/2018</td>\n      <td>DB2 for LUW</td>\n      <td>Db2 Linux, Unix and Windows</td>\n      <td>NaN</td>\n      <td>1.0</td>\n      <td>Severity 2</td>\n      <td>SAP</td>\n      <td>No</td>\n      <td>10.5</td>\n      <td>NaN</td>\n      <td>SAP 47709/2018 - Productive Database db2 down ...</td>\n      <td>Malte Sch\u00fcnemann</td>\n      <td>Not Applicable</td>\n    </tr>\n    <tr>\n      <th>4</th>\n      <td>TS000105069</td>\n      <td>amri</td>\n      <td>02/01/2018</td>\n      <td>DB2 for LUW</td>\n      <td>Db2 Linux, Unix and Windows</td>\n      <td>Analytics-Commercial</td>\n      <td>0.0</td>\n      <td>Severity 2</td>\n      <td>INTERNATIONAL BUSINESS MACHINES</td>\n      <td>No</td>\n      <td>9.7</td>\n      <td>NaN</td>\n      <td>HADR tuning</td>\n      <td>Support ETL</td>\n      <td>PMR</td>\n    </tr>\n  </tbody>\n</table>\n</div>", 
                        "text/plain": "   CASE_NUMBER CASE_OWNER_ALIAS OPENED_DATE SUPPORT_MISSION  \\\n0  TS000104648             CDel  02/01/2018     DB2 for LUW   \n1  TS000104657             barr  02/01/2018     DB2 for LUW   \n2  TS000104966         steffenh  02/01/2018     DB2 for LUW   \n3  TS000105031             JKLA  02/01/2018     DB2 for LUW   \n4  TS000105069             amri  02/01/2018     DB2 for LUW   \n\n                  PRODUCT_NAME      ACCOUNT_PRIORITY  OWNERSHIP_CHANGES  \\\n0  Db2 Linux, Unix and Windows    Analytics-Industry                0.0   \n1  Db2 Linux, Unix and Windows                   NaN                1.0   \n2  Db2 Linux, Unix and Windows                   NaN                1.0   \n3  Db2 Linux, Unix and Windows                   NaN                1.0   \n4  Db2 Linux, Unix and Windows  Analytics-Commercial                0.0   \n\n  SEVERITY_LEVEL_NUMBER_FORMULA                      ACCOUNT_NAME  \\\n0                    Severity 2  Marsh & McLennan Companies, Inc.   \n1                    Severity 2        SOUTH AFRICAN REVENUE SVCS   \n2                    Severity 3                               SAP   \n3                    Severity 2                               SAP   \n4                    Severity 2   INTERNATIONAL BUSINESS MACHINES   \n\n  BLUE_DIAMOND_ACCOUNT PRODUCT_VERSION OPERATING_SYSTEM  \\\n0                   No            10.5              NaN   \n1                   No             NaN              NaN   \n2                   No            10.5              NaN   \n3                   No            10.5              NaN   \n4                   No             9.7              NaN   \n\n                                             SUBJECT        CREATED_BY  \\\n0  DB2 running out of disk space during data-inte...    Angel Georgiev   \n1  C-3/27-(0)-W4F 180205 insert and delete transa...       Support ETL   \n2  SAP BCP 34020/2018 - DBA Cockpit Data Collecto...   Carola Langwald   \n3  SAP 47709/2018 - Productive Database db2 down ...  Malte Sch\u00fcnemann   \n4                                        HADR tuning       Support ETL   \n\n  LEGACY_PROBLEM_NUMBER  \n0        Not Applicable  \n1                   PMR  \n2        Not Applicable  \n3        Not Applicable  \n4                   PMR  "
                    }, 
                    "output_type": "execute_result"
                }
            ], 
            "source": "superset_data.head()"
        }, 
        {
            "execution_count": 33, 
            "cell_type": "code", 
            "metadata": {}, 
            "outputs": [
                {
                    "execution_count": 33, 
                    "metadata": {}, 
                    "data": {
                        "text/html": "<div>\n<style scoped>\n    .dataframe tbody tr th:only-of-type {\n        vertical-align: middle;\n    }\n\n    .dataframe tbody tr th {\n        vertical-align: top;\n    }\n\n    .dataframe thead th {\n        text-align: right;\n    }\n</style>\n<table border=\"1\" class=\"dataframe\">\n  <thead>\n    <tr style=\"text-align: right;\">\n      <th></th>\n      <th>CASE_NUMBER</th>\n      <th>CASE_OWNER_ALIAS</th>\n      <th>OPENED_DATE</th>\n      <th>SUPPORT_MISSION</th>\n      <th>PRODUCT_NAME</th>\n      <th>ACCOUNT_PRIORITY</th>\n      <th>OWNERSHIP_CHANGES</th>\n      <th>SEVERITY_LEVEL_NUMBER_FORMULA</th>\n      <th>ACCOUNT_NAME</th>\n      <th>BLUE_DIAMOND_ACCOUNT</th>\n      <th>PRODUCT_VERSION</th>\n      <th>OPERATING_SYSTEM</th>\n      <th>SUBJECT</th>\n      <th>CREATED_BY</th>\n      <th>LEGACY_PROBLEM_NUMBER</th>\n      <th>target</th>\n    </tr>\n  </thead>\n  <tbody>\n    <tr>\n      <th>0</th>\n      <td>TS000104648</td>\n      <td>CDel</td>\n      <td>02/01/2018</td>\n      <td>DB2 for LUW</td>\n      <td>Db2 Linux, Unix and Windows</td>\n      <td>Analytics-Industry</td>\n      <td>0.0</td>\n      <td>Severity 2</td>\n      <td>Marsh &amp; McLennan Companies, Inc.</td>\n      <td>No</td>\n      <td>10.5</td>\n      <td>NaN</td>\n      <td>DB2 running out of disk space during data-inte...</td>\n      <td>Angel Georgiev</td>\n      <td>Not Applicable</td>\n      <td>0.0</td>\n    </tr>\n    <tr>\n      <th>1</th>\n      <td>TS000104657</td>\n      <td>barr</td>\n      <td>02/01/2018</td>\n      <td>DB2 for LUW</td>\n      <td>Db2 Linux, Unix and Windows</td>\n      <td>NaN</td>\n      <td>1.0</td>\n      <td>Severity 2</td>\n      <td>SOUTH AFRICAN REVENUE SVCS</td>\n      <td>No</td>\n      <td>NaN</td>\n      <td>NaN</td>\n      <td>C-3/27-(0)-W4F 180205 insert and delete transa...</td>\n      <td>Support ETL</td>\n      <td>PMR</td>\n      <td>0.0</td>\n    </tr>\n    <tr>\n      <th>2</th>\n      <td>TS000104966</td>\n      <td>steffenh</td>\n      <td>02/01/2018</td>\n      <td>DB2 for LUW</td>\n      <td>Db2 Linux, Unix and Windows</td>\n      <td>NaN</td>\n      <td>1.0</td>\n      <td>Severity 3</td>\n      <td>SAP</td>\n      <td>No</td>\n      <td>10.5</td>\n      <td>NaN</td>\n      <td>SAP BCP 34020/2018 - DBA Cockpit Data Collecto...</td>\n      <td>Carola Langwald</td>\n      <td>Not Applicable</td>\n      <td>0.0</td>\n    </tr>\n    <tr>\n      <th>3</th>\n      <td>TS000105031</td>\n      <td>JKLA</td>\n      <td>02/01/2018</td>\n      <td>DB2 for LUW</td>\n      <td>Db2 Linux, Unix and Windows</td>\n      <td>NaN</td>\n      <td>1.0</td>\n      <td>Severity 2</td>\n      <td>SAP</td>\n      <td>No</td>\n      <td>10.5</td>\n      <td>NaN</td>\n      <td>SAP 47709/2018 - Productive Database db2 down ...</td>\n      <td>Malte Sch\u00fcnemann</td>\n      <td>Not Applicable</td>\n      <td>0.0</td>\n    </tr>\n    <tr>\n      <th>4</th>\n      <td>TS000105069</td>\n      <td>amri</td>\n      <td>02/01/2018</td>\n      <td>DB2 for LUW</td>\n      <td>Db2 Linux, Unix and Windows</td>\n      <td>Analytics-Commercial</td>\n      <td>0.0</td>\n      <td>Severity 2</td>\n      <td>INTERNATIONAL BUSINESS MACHINES</td>\n      <td>No</td>\n      <td>9.7</td>\n      <td>NaN</td>\n      <td>HADR tuning</td>\n      <td>Support ETL</td>\n      <td>PMR</td>\n      <td>0.0</td>\n    </tr>\n  </tbody>\n</table>\n</div>", 
                        "text/plain": "   CASE_NUMBER CASE_OWNER_ALIAS OPENED_DATE SUPPORT_MISSION  \\\n0  TS000104648             CDel  02/01/2018     DB2 for LUW   \n1  TS000104657             barr  02/01/2018     DB2 for LUW   \n2  TS000104966         steffenh  02/01/2018     DB2 for LUW   \n3  TS000105031             JKLA  02/01/2018     DB2 for LUW   \n4  TS000105069             amri  02/01/2018     DB2 for LUW   \n\n                  PRODUCT_NAME      ACCOUNT_PRIORITY  OWNERSHIP_CHANGES  \\\n0  Db2 Linux, Unix and Windows    Analytics-Industry                0.0   \n1  Db2 Linux, Unix and Windows                   NaN                1.0   \n2  Db2 Linux, Unix and Windows                   NaN                1.0   \n3  Db2 Linux, Unix and Windows                   NaN                1.0   \n4  Db2 Linux, Unix and Windows  Analytics-Commercial                0.0   \n\n  SEVERITY_LEVEL_NUMBER_FORMULA                      ACCOUNT_NAME  \\\n0                    Severity 2  Marsh & McLennan Companies, Inc.   \n1                    Severity 2        SOUTH AFRICAN REVENUE SVCS   \n2                    Severity 3                               SAP   \n3                    Severity 2                               SAP   \n4                    Severity 2   INTERNATIONAL BUSINESS MACHINES   \n\n  BLUE_DIAMOND_ACCOUNT PRODUCT_VERSION OPERATING_SYSTEM  \\\n0                   No            10.5              NaN   \n1                   No             NaN              NaN   \n2                   No            10.5              NaN   \n3                   No            10.5              NaN   \n4                   No             9.7              NaN   \n\n                                             SUBJECT        CREATED_BY  \\\n0  DB2 running out of disk space during data-inte...    Angel Georgiev   \n1  C-3/27-(0)-W4F 180205 insert and delete transa...       Support ETL   \n2  SAP BCP 34020/2018 - DBA Cockpit Data Collecto...   Carola Langwald   \n3  SAP 47709/2018 - Productive Database db2 down ...  Malte Sch\u00fcnemann   \n4                                        HADR tuning       Support ETL   \n\n  LEGACY_PROBLEM_NUMBER  target  \n0        Not Applicable     0.0  \n1                   PMR     0.0  \n2        Not Applicable     0.0  \n3        Not Applicable     0.0  \n4                   PMR     0.0  "
                    }, 
                    "output_type": "execute_result"
                }
            ], 
            "source": "merged_data.head()\n"
        }, 
        {
            "execution_count": 34, 
            "cell_type": "code", 
            "metadata": {}, 
            "outputs": [
                {
                    "execution_count": 34, 
                    "metadata": {}, 
                    "data": {
                        "text/plain": "CASE_NUMBER                       object\nCASE_OWNER_ALIAS                  object\nOPENED_DATE                       object\nSUPPORT_MISSION                   object\nPRODUCT_NAME                      object\nACCOUNT_PRIORITY                  object\nOWNERSHIP_CHANGES                float64\nSEVERITY_LEVEL_NUMBER_FORMULA     object\nACCOUNT_NAME                      object\nBLUE_DIAMOND_ACCOUNT              object\nPRODUCT_VERSION                   object\nOPERATING_SYSTEM                  object\nSUBJECT                           object\nCREATED_BY                        object\nLEGACY_PROBLEM_NUMBER             object\ndtype: object"
                    }, 
                    "output_type": "execute_result"
                }
            ], 
            "source": "superset_data.dtypes"
        }, 
        {
            "execution_count": 35, 
            "cell_type": "code", 
            "metadata": {}, 
            "outputs": [
                {
                    "execution_count": 35, 
                    "metadata": {}, 
                    "data": {
                        "text/plain": "CASE_NUMBER                       object\nCASE_OWNER_ALIAS                  object\nOPENED_DATE                       object\nSUPPORT_MISSION                   object\nPRODUCT_NAME                      object\nACCOUNT_PRIORITY                  object\nOWNERSHIP_CHANGES                float64\nSEVERITY_LEVEL_NUMBER_FORMULA     object\nACCOUNT_NAME                      object\nBLUE_DIAMOND_ACCOUNT              object\nPRODUCT_VERSION                   object\nOPERATING_SYSTEM                  object\nSUBJECT                           object\nCREATED_BY                        object\nLEGACY_PROBLEM_NUMBER             object\ntarget                           float64\ndtype: object"
                    }, 
                    "output_type": "execute_result"
                }
            ], 
            "source": "merged_data.dtypes"
        }, 
        {
            "execution_count": 36, 
            "cell_type": "code", 
            "metadata": {}, 
            "outputs": [
                {
                    "execution_count": 36, 
                    "metadata": {}, 
                    "data": {
                        "text/plain": "0    Not Applicable\n1               PMR\n2    Not Applicable\n3    Not Applicable\n4               PMR\n5    Not Applicable\n6    Not Applicable\n7    Not Applicable\n8               PMR\n9               PMR\nName: LEGACY_PROBLEM_NUMBER, dtype: object"
                    }, 
                    "output_type": "execute_result"
                }
            ], 
            "source": "superset_data['LEGACY_PROBLEM_NUMBER'].head(10)"
        }, 
        {
            "source": "# Deal with missing values <a name='bookmark' />\n<a href=#linkanchor>Back to link list</a>", 
            "cell_type": "markdown", 
            "metadata": {}
        }, 
        {
            "execution_count": 37, 
            "cell_type": "code", 
            "metadata": {}, 
            "outputs": [
                {
                    "output_type": "stream", 
                    "name": "stdout", 
                    "text": "before mv\n"
                }, 
                {
                    "output_type": "stream", 
                    "name": "stderr", 
                    "text": "/home/paperspace/anaconda3/envs/fastai/lib/python3.6/site-packages/pandas/core/generic.py:4355: SettingWithCopyWarning: \nA value is trying to be set on a copy of a slice from a DataFrame\n\nSee the caveats in the documentation: http://pandas.pydata.org/pandas-docs/stable/indexing.html#indexing-view-versus-copy\n  self._update_inplace(new_data)\n"
                }, 
                {
                    "execution_count": 37, 
                    "metadata": {}, 
                    "data": {
                        "text/html": "<div>\n<style scoped>\n    .dataframe tbody tr th:only-of-type {\n        vertical-align: middle;\n    }\n\n    .dataframe tbody tr th {\n        vertical-align: top;\n    }\n\n    .dataframe thead th {\n        text-align: right;\n    }\n</style>\n<table border=\"1\" class=\"dataframe\">\n  <thead>\n    <tr style=\"text-align: right;\">\n      <th></th>\n      <th>CASE_NUMBER</th>\n      <th>CASE_OWNER_ALIAS</th>\n      <th>OPENED_DATE</th>\n      <th>SUPPORT_MISSION</th>\n      <th>PRODUCT_NAME</th>\n      <th>ACCOUNT_PRIORITY</th>\n      <th>OWNERSHIP_CHANGES</th>\n      <th>SEVERITY_LEVEL_NUMBER_FORMULA</th>\n      <th>ACCOUNT_NAME</th>\n      <th>BLUE_DIAMOND_ACCOUNT</th>\n      <th>PRODUCT_VERSION</th>\n      <th>OPERATING_SYSTEM</th>\n      <th>SUBJECT</th>\n      <th>CREATED_BY</th>\n      <th>LEGACY_PROBLEM_NUMBER</th>\n      <th>target</th>\n    </tr>\n  </thead>\n  <tbody>\n    <tr>\n      <th>6666</th>\n      <td>TS000883298</td>\n      <td>jshuang</td>\n      <td>05/08/2018</td>\n      <td>DB2 for LUW</td>\n      <td>Db2 Linux, Unix and Windows</td>\n      <td>missing</td>\n      <td>0</td>\n      <td>Severity 3</td>\n      <td>JTEKT (CHINA) CO.,LTD</td>\n      <td>No</td>\n      <td>10.5</td>\n      <td>AIX</td>\n      <td>GCGTSC@EH:Db2 software download inquiry</td>\n      <td>Support ETL</td>\n      <td>PMR</td>\n      <td>0.0</td>\n    </tr>\n    <tr>\n      <th>5863</th>\n      <td>TS000829287</td>\n      <td>xufufei</td>\n      <td>4/25/2018</td>\n      <td>DB2 for LUW</td>\n      <td>Db2 Linux, Unix and Windows</td>\n      <td>Analytics-Enterprise</td>\n      <td>2</td>\n      <td>Severity 3</td>\n      <td>CHINA MERCHANTS BANK</td>\n      <td>No</td>\n      <td>10.5</td>\n      <td>AIX</td>\n      <td>Attn Pals(Need Help):GCGTSC@EH:CMB v105fp5 SYS...</td>\n      <td>Support ETL</td>\n      <td>PMR</td>\n      <td>0.0</td>\n    </tr>\n    <tr>\n      <th>2183</th>\n      <td>TS000126251</td>\n      <td>KUMI</td>\n      <td>2/28/2018</td>\n      <td>DB2 for LUW</td>\n      <td>Db2 Linux, Unix and Windows</td>\n      <td>missing</td>\n      <td>0</td>\n      <td>Severity 3</td>\n      <td>5Y0UZ JCB</td>\n      <td>No</td>\n      <td>9.7</td>\n      <td>AIX</td>\n      <td>Db2????????????????</td>\n      <td>Syuhichi Shirota</td>\n      <td>Not Applicable</td>\n      <td>0.0</td>\n    </tr>\n  </tbody>\n</table>\n</div>", 
                        "text/plain": "      CASE_NUMBER CASE_OWNER_ALIAS OPENED_DATE SUPPORT_MISSION  \\\n6666  TS000883298          jshuang  05/08/2018     DB2 for LUW   \n5863  TS000829287          xufufei   4/25/2018     DB2 for LUW   \n2183  TS000126251             KUMI   2/28/2018     DB2 for LUW   \n\n                     PRODUCT_NAME      ACCOUNT_PRIORITY  OWNERSHIP_CHANGES  \\\n6666  Db2 Linux, Unix and Windows               missing                  0   \n5863  Db2 Linux, Unix and Windows  Analytics-Enterprise                  2   \n2183  Db2 Linux, Unix and Windows               missing                  0   \n\n     SEVERITY_LEVEL_NUMBER_FORMULA           ACCOUNT_NAME  \\\n6666                    Severity 3  JTEKT (CHINA) CO.,LTD   \n5863                    Severity 3   CHINA MERCHANTS BANK   \n2183                    Severity 3              5Y0UZ JCB   \n\n     BLUE_DIAMOND_ACCOUNT PRODUCT_VERSION OPERATING_SYSTEM  \\\n6666                   No            10.5              AIX   \n5863                   No            10.5              AIX   \n2183                   No             9.7              AIX   \n\n                                                SUBJECT        CREATED_BY  \\\n6666            GCGTSC@EH:Db2 software download inquiry       Support ETL   \n5863  Attn Pals(Need Help):GCGTSC@EH:CMB v105fp5 SYS...       Support ETL   \n2183                                Db2????????????????  Syuhichi Shirota   \n\n     LEGACY_PROBLEM_NUMBER  target  \n6666                   PMR     0.0  \n5863                   PMR     0.0  \n2183        Not Applicable     0.0  "
                    }, 
                    "output_type": "execute_result"
                }
            ], 
            "source": "# fill missing values\nprint(\"before mv\")\ndef fill_missing(dataset):\n    for col in collist:\n        dataset[col].fillna(value=\"missing\", inplace=True)\n    for col in continuouscols:\n        dataset[col].fillna(value=0.0,inplace=True)\n    for col in textcols:\n        dataset[col].fillna(value=\"missing\", inplace=True)\n    return (dataset)\n\n\ntrain = fill_missing(train)\ntest = fill_missing(test)\n# also remove missing data from superset dataset used for encodings\nsuperset_data = fill_missing(superset_data)\ntrain.head(3)\n"
        }, 
        {
            "execution_count": 38, 
            "cell_type": "code", 
            "metadata": {}, 
            "outputs": [
                {
                    "execution_count": 38, 
                    "metadata": {}, 
                    "data": {
                        "text/plain": "True"
                    }, 
                    "output_type": "execute_result"
                }
            ], 
            "source": "verboseout == True"
        }, 
        {
            "execution_count": 39, 
            "cell_type": "code", 
            "metadata": {}, 
            "outputs": [
                {
                    "output_type": "stream", 
                    "name": "stdout", 
                    "text": "processing  OPERATING_SYSTEM\nprocessing  ACCOUNT_PRIORITY\n"
                }, 
                {
                    "output_type": "stream", 
                    "name": "stderr", 
                    "text": "/home/paperspace/anaconda3/envs/fastai/lib/python3.6/site-packages/ipykernel_launcher.py:19: SettingWithCopyWarning: \nA value is trying to be set on a copy of a slice from a DataFrame.\nTry using .loc[row_indexer,col_indexer] = value instead\n\nSee the caveats in the documentation: http://pandas.pydata.org/pandas-docs/stable/indexing.html#indexing-view-versus-copy\n/home/paperspace/anaconda3/envs/fastai/lib/python3.6/site-packages/ipykernel_launcher.py:20: SettingWithCopyWarning: \nA value is trying to be set on a copy of a slice from a DataFrame.\nTry using .loc[row_indexer,col_indexer] = value instead\n\nSee the caveats in the documentation: http://pandas.pydata.org/pandas-docs/stable/indexing.html#indexing-view-versus-copy\n"
                }, 
                {
                    "output_type": "stream", 
                    "name": "stdout", 
                    "text": "processing  BLUE_DIAMOND_ACCOUNT\nprocessing  SEVERITY_LEVEL_NUMBER_FORMULA\nprocessing  PRODUCT_VERSION\nprocessing  PRODUCT_NAME\nprocessing  SUPPORT_MISSION\nprocessing  CREATED_BY\nprocessing  ACCOUNT_NAME\nprocessing  LEGACY_PROBLEM_NUMBER\nprocessing  CASE_OWNER_ALIAS\n"
                }, 
                {
                    "execution_count": 39, 
                    "metadata": {}, 
                    "data": {
                        "text/html": "<div>\n<style scoped>\n    .dataframe tbody tr th:only-of-type {\n        vertical-align: middle;\n    }\n\n    .dataframe tbody tr th {\n        vertical-align: top;\n    }\n\n    .dataframe thead th {\n        text-align: right;\n    }\n</style>\n<table border=\"1\" class=\"dataframe\">\n  <thead>\n    <tr style=\"text-align: right;\">\n      <th></th>\n      <th>CASE_NUMBER</th>\n      <th>CASE_OWNER_ALIAS</th>\n      <th>OPENED_DATE</th>\n      <th>SUPPORT_MISSION</th>\n      <th>PRODUCT_NAME</th>\n      <th>ACCOUNT_PRIORITY</th>\n      <th>OWNERSHIP_CHANGES</th>\n      <th>SEVERITY_LEVEL_NUMBER_FORMULA</th>\n      <th>ACCOUNT_NAME</th>\n      <th>BLUE_DIAMOND_ACCOUNT</th>\n      <th>PRODUCT_VERSION</th>\n      <th>OPERATING_SYSTEM</th>\n      <th>SUBJECT</th>\n      <th>CREATED_BY</th>\n      <th>LEGACY_PROBLEM_NUMBER</th>\n      <th>target</th>\n    </tr>\n  </thead>\n  <tbody>\n    <tr>\n      <th>6666</th>\n      <td>TS000883298</td>\n      <td>169</td>\n      <td>05/08/2018</td>\n      <td>0</td>\n      <td>6</td>\n      <td>18</td>\n      <td>0</td>\n      <td>2</td>\n      <td>1198</td>\n      <td>1</td>\n      <td>5</td>\n      <td>0</td>\n      <td>GCGTSC@EH:Db2 software download inquiry</td>\n      <td>1819</td>\n      <td>1</td>\n      <td>0.0</td>\n    </tr>\n    <tr>\n      <th>5863</th>\n      <td>TS000829287</td>\n      <td>261</td>\n      <td>4/25/2018</td>\n      <td>0</td>\n      <td>6</td>\n      <td>4</td>\n      <td>2</td>\n      <td>2</td>\n      <td>426</td>\n      <td>1</td>\n      <td>5</td>\n      <td>0</td>\n      <td>Attn Pals(Need Help):GCGTSC@EH:CMB v105fp5 SYS...</td>\n      <td>1819</td>\n      <td>1</td>\n      <td>0.0</td>\n    </tr>\n    <tr>\n      <th>2183</th>\n      <td>TS000126251</td>\n      <td>63</td>\n      <td>2/28/2018</td>\n      <td>0</td>\n      <td>6</td>\n      <td>18</td>\n      <td>0</td>\n      <td>2</td>\n      <td>24</td>\n      <td>1</td>\n      <td>30</td>\n      <td>0</td>\n      <td>Db2????????????????</td>\n      <td>1841</td>\n      <td>0</td>\n      <td>0.0</td>\n    </tr>\n    <tr>\n      <th>6590</th>\n      <td>TS000880423</td>\n      <td>95</td>\n      <td>05/07/2018</td>\n      <td>0</td>\n      <td>6</td>\n      <td>2</td>\n      <td>0</td>\n      <td>2</td>\n      <td>952</td>\n      <td>1</td>\n      <td>2</td>\n      <td>2</td>\n      <td>DB2 production environment - application conne...</td>\n      <td>273</td>\n      <td>0</td>\n      <td>0.0</td>\n    </tr>\n    <tr>\n      <th>5213</th>\n      <td>TS000212236</td>\n      <td>66</td>\n      <td>4/16/2018</td>\n      <td>0</td>\n      <td>6</td>\n      <td>7</td>\n      <td>0</td>\n      <td>2</td>\n      <td>889</td>\n      <td>1</td>\n      <td>2</td>\n      <td>2</td>\n      <td>180426 - 0 Card value in syscat.tables</td>\n      <td>239</td>\n      <td>0</td>\n      <td>0.0</td>\n    </tr>\n  </tbody>\n</table>\n</div>", 
                        "text/plain": "      CASE_NUMBER  CASE_OWNER_ALIAS OPENED_DATE  SUPPORT_MISSION  \\\n6666  TS000883298               169  05/08/2018                0   \n5863  TS000829287               261   4/25/2018                0   \n2183  TS000126251                63   2/28/2018                0   \n6590  TS000880423                95  05/07/2018                0   \n5213  TS000212236                66   4/16/2018                0   \n\n      PRODUCT_NAME  ACCOUNT_PRIORITY  OWNERSHIP_CHANGES  \\\n6666             6                18                  0   \n5863             6                 4                  2   \n2183             6                18                  0   \n6590             6                 2                  0   \n5213             6                 7                  0   \n\n      SEVERITY_LEVEL_NUMBER_FORMULA  ACCOUNT_NAME  BLUE_DIAMOND_ACCOUNT  \\\n6666                              2          1198                     1   \n5863                              2           426                     1   \n2183                              2            24                     1   \n6590                              2           952                     1   \n5213                              2           889                     1   \n\n      PRODUCT_VERSION  OPERATING_SYSTEM  \\\n6666                5                 0   \n5863                5                 0   \n2183               30                 0   \n6590                2                 2   \n5213                2                 2   \n\n                                                SUBJECT  CREATED_BY  \\\n6666            GCGTSC@EH:Db2 software download inquiry        1819   \n5863  Attn Pals(Need Help):GCGTSC@EH:CMB v105fp5 SYS...        1819   \n2183                                Db2????????????????        1841   \n6590  DB2 production environment - application conne...         273   \n5213             180426 - 0 Card value in syscat.tables         239   \n\n      LEGACY_PROBLEM_NUMBER  target  \n6666                      1     0.0  \n5863                      1     0.0  \n2183                      0     0.0  \n6590                      0     0.0  \n5213                      0     0.0  "
                    }, 
                    "output_type": "execute_result"
                }
            ], 
            "source": "# process categorical data\n# replace values with category IDs in the following columns\n# \n\n\n\nlelist = {}\n\n# le = CategoricalEncoder(encoding='ordinal', handle_unknown='ignore')\n\nfor col in collist:\n    le = LabelEncoder()\n    if verboseout:\n        print(\"processing \",col)\n    # fit on superset to ensure encoding includes future data but only model on past data\n    # np.hstack([superset_data[col]])\n    le.fit(np.hstack([superset_data[col]]))\n    superset_data[col] = le.transform(superset_data[col])\n    train[col] = le.transform(train[col])\n    test[col] = le.transform(test[col])\n    lelist[col] = le\n    del le\n    \n    \n# del le\n\n\ntrain.head(5)\n    "
        }, 
        {
            "execution_count": 40, 
            "cell_type": "code", 
            "metadata": {}, 
            "outputs": [
                {
                    "execution_count": 40, 
                    "metadata": {}, 
                    "data": {
                        "text/html": "<div>\n<style scoped>\n    .dataframe tbody tr th:only-of-type {\n        vertical-align: middle;\n    }\n\n    .dataframe tbody tr th {\n        vertical-align: top;\n    }\n\n    .dataframe thead th {\n        text-align: right;\n    }\n</style>\n<table border=\"1\" class=\"dataframe\">\n  <thead>\n    <tr style=\"text-align: right;\">\n      <th></th>\n      <th>CASE_NUMBER</th>\n      <th>CASE_OWNER_ALIAS</th>\n      <th>OPENED_DATE</th>\n      <th>SUPPORT_MISSION</th>\n      <th>PRODUCT_NAME</th>\n      <th>ACCOUNT_PRIORITY</th>\n      <th>OWNERSHIP_CHANGES</th>\n      <th>SEVERITY_LEVEL_NUMBER_FORMULA</th>\n      <th>ACCOUNT_NAME</th>\n      <th>BLUE_DIAMOND_ACCOUNT</th>\n      <th>PRODUCT_VERSION</th>\n      <th>OPERATING_SYSTEM</th>\n      <th>SUBJECT</th>\n      <th>CREATED_BY</th>\n      <th>LEGACY_PROBLEM_NUMBER</th>\n    </tr>\n  </thead>\n  <tbody>\n    <tr>\n      <th>0</th>\n      <td>TS000104648</td>\n      <td>13</td>\n      <td>02/01/2018</td>\n      <td>0</td>\n      <td>6</td>\n      <td>10</td>\n      <td>0.0</td>\n      <td>1</td>\n      <td>1373</td>\n      <td>1</td>\n      <td>5</td>\n      <td>5</td>\n      <td>DB2 running out of disk space during data-inte...</td>\n      <td>109</td>\n      <td>0</td>\n    </tr>\n    <tr>\n      <th>1</th>\n      <td>TS000104657</td>\n      <td>119</td>\n      <td>02/01/2018</td>\n      <td>0</td>\n      <td>6</td>\n      <td>18</td>\n      <td>1.0</td>\n      <td>1</td>\n      <td>1798</td>\n      <td>1</td>\n      <td>40</td>\n      <td>5</td>\n      <td>C-3/27-(0)-W4F 180205 insert and delete transa...</td>\n      <td>1819</td>\n      <td>1</td>\n    </tr>\n    <tr>\n      <th>2</th>\n      <td>TS000104966</td>\n      <td>244</td>\n      <td>02/01/2018</td>\n      <td>0</td>\n      <td>6</td>\n      <td>18</td>\n      <td>1.0</td>\n      <td>2</td>\n      <td>1717</td>\n      <td>1</td>\n      <td>5</td>\n      <td>5</td>\n      <td>SAP BCP 34020/2018 - DBA Cockpit Data Collecto...</td>\n      <td>276</td>\n      <td>0</td>\n    </tr>\n    <tr>\n      <th>3</th>\n      <td>TS000105031</td>\n      <td>59</td>\n      <td>02/01/2018</td>\n      <td>0</td>\n      <td>6</td>\n      <td>18</td>\n      <td>1.0</td>\n      <td>1</td>\n      <td>1717</td>\n      <td>1</td>\n      <td>5</td>\n      <td>5</td>\n      <td>SAP 47709/2018 - Productive Database db2 down ...</td>\n      <td>1096</td>\n      <td>0</td>\n    </tr>\n    <tr>\n      <th>4</th>\n      <td>TS000105069</td>\n      <td>112</td>\n      <td>02/01/2018</td>\n      <td>0</td>\n      <td>6</td>\n      <td>2</td>\n      <td>0.0</td>\n      <td>1</td>\n      <td>1123</td>\n      <td>1</td>\n      <td>30</td>\n      <td>5</td>\n      <td>HADR tuning</td>\n      <td>1819</td>\n      <td>1</td>\n    </tr>\n  </tbody>\n</table>\n</div>", 
                        "text/plain": "   CASE_NUMBER  CASE_OWNER_ALIAS OPENED_DATE  SUPPORT_MISSION  PRODUCT_NAME  \\\n0  TS000104648                13  02/01/2018                0             6   \n1  TS000104657               119  02/01/2018                0             6   \n2  TS000104966               244  02/01/2018                0             6   \n3  TS000105031                59  02/01/2018                0             6   \n4  TS000105069               112  02/01/2018                0             6   \n\n   ACCOUNT_PRIORITY  OWNERSHIP_CHANGES  SEVERITY_LEVEL_NUMBER_FORMULA  \\\n0                10                0.0                              1   \n1                18                1.0                              1   \n2                18                1.0                              2   \n3                18                1.0                              1   \n4                 2                0.0                              1   \n\n   ACCOUNT_NAME  BLUE_DIAMOND_ACCOUNT  PRODUCT_VERSION  OPERATING_SYSTEM  \\\n0          1373                     1                5                 5   \n1          1798                     1               40                 5   \n2          1717                     1                5                 5   \n3          1717                     1                5                 5   \n4          1123                     1               30                 5   \n\n                                             SUBJECT  CREATED_BY  \\\n0  DB2 running out of disk space during data-inte...         109   \n1  C-3/27-(0)-W4F 180205 insert and delete transa...        1819   \n2  SAP BCP 34020/2018 - DBA Cockpit Data Collecto...         276   \n3  SAP 47709/2018 - Productive Database db2 down ...        1096   \n4                                        HADR tuning        1819   \n\n   LEGACY_PROBLEM_NUMBER  \n0                      0  \n1                      1  \n2                      0  \n3                      0  \n4                      1  "
                    }, 
                    "output_type": "execute_result"
                }
            ], 
            "source": "superset_data.head(5)"
        }, 
        {
            "execution_count": 41, 
            "cell_type": "code", 
            "metadata": {}, 
            "outputs": [
                {
                    "execution_count": 41, 
                    "metadata": {}, 
                    "data": {
                        "text/plain": "6666              GCGTSC@EH:Db2 software download inquiry\n5863    Attn Pals(Need Help):GCGTSC@EH:CMB v105fp5 SYS...\n2183                                  Db2????????????????\n6590    DB2 production environment - application conne...\n5213               180426 - 0 Card value in syscat.tables\n1683                                           \"Dear team\n811     02/14 - WC: To know about the option \"mon report\"\n2453                      Search was failed with  SQL0901\n5145    PdO - System is creating FODC file on home fil...\n6293                         DB2 services Unexpected Down\nName: SUBJECT, dtype: object"
                    }, 
                    "output_type": "execute_result"
                }
            ], 
            "source": "train['SUBJECT'].head(10)"
        }, 
        {
            "execution_count": 42, 
            "cell_type": "code", 
            "metadata": {}, 
            "outputs": [
                {
                    "output_type": "stream", 
                    "name": "stdout", 
                    "text": "processing text col SUBJECT\n"
                }, 
                {
                    "output_type": "stream", 
                    "name": "stderr", 
                    "text": "/home/paperspace/anaconda3/envs/fastai/lib/python3.6/site-packages/ipykernel_launcher.py:17: SettingWithCopyWarning: \nA value is trying to be set on a copy of a slice from a DataFrame.\nTry using .loc[row_indexer,col_indexer] = value instead\n\nSee the caveats in the documentation: http://pandas.pydata.org/pandas-docs/stable/indexing.html#indexing-view-versus-copy\n/home/paperspace/anaconda3/envs/fastai/lib/python3.6/site-packages/ipykernel_launcher.py:18: SettingWithCopyWarning: \nA value is trying to be set on a copy of a slice from a DataFrame.\nTry using .loc[row_indexer,col_indexer] = value instead\n\nSee the caveats in the documentation: http://pandas.pydata.org/pandas-docs/stable/indexing.html#indexing-view-versus-copy\n"
                }
            ], 
            "source": "# part 1 of text processing\n# tokenize list of text columns (made up of multiple strings)\n\nfrom keras.preprocessing.text import Tokenizer\n\n# text columns that we care about\n# textcols = ['Other_Reason_for_Cancellation', 'Reason_for_Reopening', 'Resolution_Description', 'Subject']\n# textcols = ['Resolution_Description', 'Subject']\n\nfor col in textcols:\n    if verboseout:\n        print(\"processing text col\",col)\n    \n    # Tokenizer lower cases and removes punctuation by default\n    tok_raw = Tokenizer(num_words=maxwords,lower=True)\n    tok_raw.fit_on_texts(train[col])\n    train[col] = tok_raw.texts_to_sequences(train[col])\n    test[col] = tok_raw.texts_to_sequences(test[col])\n    \n"
        }, 
        {
            "execution_count": 43, 
            "cell_type": "code", 
            "metadata": {}, 
            "outputs": [
                {
                    "execution_count": 43, 
                    "metadata": {}, 
                    "data": {
                        "text/plain": "6666                            [3, 38, 1, 392, 214, 187]\n5863    [48, 86, 47, 93, 3, 38, 1041, 543, 1154, 393, ...\n2183                                                  [1]\n6590    [1, 82, 199, 63, 92, 311, 687, 287, 2002, 138,...\n5213                   [1586, 58, 1156, 490, 5, 609, 206]\n1683                                          [2901, 394]\n811       [269, 610, 135, 2, 585, 139, 11, 443, 688, 644]\n2453                              [466, 66, 36, 12, 2902]\n5145         [2903, 59, 14, 507, 165, 56, 4, 832, 56, 59]\n6293                                    [1, 444, 215, 71]\nName: SUBJECT, dtype: object"
                    }, 
                    "output_type": "execute_result"
                }
            ], 
            "source": "train['SUBJECT'].head(10)"
        }, 
        {
            "execution_count": 44, 
            "cell_type": "code", 
            "metadata": {}, 
            "outputs": [
                {
                    "output_type": "stream", 
                    "name": "stdout", 
                    "text": "maxtrain.max() 5999\nmaxtest .max() 5651\ntextmax 7000\nmax_dict {'OPERATING_SYSTEM': 6, 'ACCOUNT_PRIORITY': 19, 'BLUE_DIAMOND_ACCOUNT': 2, 'SEVERITY_LEVEL_NUMBER_FORMULA': 4, 'PRODUCT_VERSION': 43, 'PRODUCT_NAME': 28, 'SUPPORT_MISSION': 1, 'CREATED_BY': 2276, 'ACCOUNT_NAME': 2215, 'LEGACY_PROBLEM_NUMBER': 2, 'CASE_OWNER_ALIAS': 269, 'SUBJECT': 5999}\n"
                }
            ], 
            "source": "# max values for embeddings\n\n\n\nmax_dict = {}\ntextmax = 50\n\nfor col in collist:\n    max_dict[col] = np.max([train[col].max(), test[col].max()])+1\n    \n# np.max([np.max(train['Resolution_Description'].max()), np.max(train['Subject'].max()),np.max(train['Other_Reason_for_Cancellation'].max()),np.max(train['Reason_for_Reopening'].max())])) \nfor cols in textcols:\n    maxtrain = np.max(train[(train[cols].map(len) != 0)][cols].map(max))\n    maxtest = np.max(test[(test[cols].map(len) != 0)][cols].map(max))\n    if verboseout:\n        print(\"maxtrain.max()\",maxtrain)\n        print(\"maxtest .max()\",maxtest)\n    max_dict[cols] = max(maxtrain,maxtest)\n    # max_dict[cols] = np.max([np.max(train[cols].max()), np.max(test[cols].max())])+20\n    # np.max(df[(df['seq_item_description'].map(len) != 0)].seq_item_description.map(max))\n    if max_dict[cols] > textmax:\n        textmax = max_dict[cols]\n\nif textmax < hctextmax:\n    textmax = hctextmax\n        \nprint(\"textmax\",textmax)\n                             \nif verboseout:\n    print(\"max_dict\",max_dict)\n\n"
        }, 
        {
            "source": "# Split training set into train / validate", 
            "cell_type": "markdown", 
            "metadata": {}
        }, 
        {
            "execution_count": 45, 
            "cell_type": "code", 
            "metadata": {}, 
            "outputs": [
                {
                    "output_type": "stream", 
                    "name": "stdout", 
                    "text": "(5950, 16)\n(1488, 16)\n"
                }
            ], 
            "source": "# define and scale target and get validation sets\n# apar_ds['TTRgtthresh'] = np.where(apar_ds['Time_to_relief'] >= ttrthresh,1,0)\n\n# train[\"target\"] = np.where(traintrain[\"LIKELIHOOD_TO_RECOMMEND\"]\n\n# train[\"target\"] = train[\"Time_to_relief\"]\n\n#train[\"target\"] = np.log(train.Time_to_relief+1)\n#target_scaler = MinMaxScaler(feature_range=(-1, 1))\n#train[\"target\"] = target_scaler.fit_transform(train.target.reshape(-1,1))\n#pd.DataFrame(train.target).hist()\n\n# train_size 0.8 up to Jan 22\ndtrain, dvalid = train_test_split(train, random_state=123, train_size=trainproportion)\n\n# modelfit = model.fit(X_train, dtrain.target, epochs=epochs, batch_size=BATCH_SIZE\n#          , validation_data=(X_valid, dvalid.target), verbose=1)\n\nprint(dtrain.shape)\nprint(dvalid.shape)\nif verboseout:\n    train[\"target\"].head(10)\nelse:\n    #trn_labels[:4]\n    print(dtrain[\"target\"][:2])\n    print(dvalid.target[:2])\n    \n\n\n"
        }, 
        {
            "execution_count": 46, 
            "cell_type": "code", 
            "metadata": {}, 
            "outputs": [
                {
                    "output_type": "stream", 
                    "name": "stdout", 
                    "text": "zero target values: all 7430\none target values: all 84\nzero target values: dtrain 5883\none target values: dtrain 67\nzero target values: dvalid 1471\none target values: dvalid 17\n"
                }
            ], 
            "source": "# print counts of target values for data sets\nprint(\"zero target values: all\",(merged_data[\"target\"]==0).sum())\nprint(\"one target values: all\",(merged_data[\"target\"]==1).sum())\nprint(\"zero target values: dtrain\",(dtrain[\"target\"]==0).sum())\nprint(\"one target values: dtrain\",(dtrain[\"target\"]==1).sum())\nprint(\"zero target values: dvalid\",(dvalid[\"target\"]==0).sum())\nprint(\"one target values: dvalid\",(dvalid[\"target\"]==1).sum())\n"
        }, 
        {
            "execution_count": 47, 
            "cell_type": "code", 
            "metadata": {}, 
            "outputs": [
                {
                    "output_type": "stream", 
                    "name": "stdout", 
                    "text": "cat col is OPERATING_SYSTEM\ncat col is ACCOUNT_PRIORITY\ncat col is BLUE_DIAMOND_ACCOUNT\ncat col is SEVERITY_LEVEL_NUMBER_FORMULA\ncat col is PRODUCT_VERSION\ncat col is PRODUCT_NAME\ncat col is SUPPORT_MISSION\ncat col is CREATED_BY\ncat col is ACCOUNT_NAME\ncat col is LEGACY_PROBLEM_NUMBER\ncat col is CASE_OWNER_ALIAS\ntext col is SUBJECT\ncont col is OWNERSHIP_CHANGES\ncat col is OPERATING_SYSTEM\ncat col is ACCOUNT_PRIORITY\ncat col is BLUE_DIAMOND_ACCOUNT\ncat col is SEVERITY_LEVEL_NUMBER_FORMULA\ncat col is PRODUCT_VERSION\ncat col is PRODUCT_NAME\ncat col is SUPPORT_MISSION\ncat col is CREATED_BY\ncat col is ACCOUNT_NAME\ncat col is LEGACY_PROBLEM_NUMBER\ncat col is CASE_OWNER_ALIAS\ntext col is SUBJECT\ncont col is OWNERSHIP_CHANGES\ncat col is OPERATING_SYSTEM\ncat col is ACCOUNT_PRIORITY\ncat col is BLUE_DIAMOND_ACCOUNT\ncat col is SEVERITY_LEVEL_NUMBER_FORMULA\ncat col is PRODUCT_VERSION\ncat col is PRODUCT_NAME\ncat col is SUPPORT_MISSION\ncat col is CREATED_BY\ncat col is ACCOUNT_NAME\ncat col is LEGACY_PROBLEM_NUMBER\ncat col is CASE_OWNER_ALIAS\ntext col is SUBJECT\ncont col is OWNERSHIP_CHANGES\nkeras variables defined\nX_train_list [array([0, 5, 2, ..., 5, 5, 5]), array([ 2,  4, 18, ..., 18, 10, 18]), array([1, 1, 1, ..., 1, 1, 1]), array([1, 1, 2, ..., 2, 2, 2]), array([ 5, 40,  7, ...,  7,  5, 40]), array([6, 6, 6, ..., 6, 6, 6]), array([0, 0, 0, ..., 0, 0, 0]), array([1819, 1819,  497, ..., 1819, 1819, 2114]), array([ 663,  122,  521, ...,  568, 2034,   48]), array([1, 1, 0, ..., 1, 1, 0]), array([123, 155, 175, ...,  56, 108,  36]), array([[   0,    0,    0, ...,  649,   44,   43],\n       [   0,    0,    0, ...,   36,  257, 1052],\n       [   0,    0,    0, ..., 2733,   13,  104],\n       ..., \n       [   0,    0,    0, ...,    0,    0, 3597],\n       [   0,    0,    0, ...,    0,   84,  113],\n       [   0,    0,    0, ...,    0,    0,    0]], dtype=int32), array([1, 1, 0, ..., 0, 0, 1])]\n"
                }
            ], 
            "source": "# define keras variables\nfrom keras.preprocessing.sequence import pad_sequences\n\n# X for the features used\n\ndef get_keras_vars(dataset):\n    X = {}\n    dictlist = []\n    for col in collist:\n        if verboseout:\n            print(\"cat col is\",col)\n        X[col] = np.array(dataset[col])\n        dictlist.append(np.array(dataset[col]))\n       \n    for col in textcols:\n        if verboseout:\n            print(\"text col is\",col)\n        X[col] = pad_sequences(dataset[col], maxlen=max_dict[col])\n        dictlist.append(pad_sequences(dataset[col], maxlen=max_dict[col]))\n        \n    for col in continuouscols:\n        if verboseout:\n            print(\"cont col is\",col)\n        X[col] = np.array(dataset[col])\n        dictlist.append(np.array(dataset[col]))\n        \n    return X, dictlist\n\ndef get_keras_list_only(X_in):\n    dictlist = []\n    for key, value in X_in.items():\n        print(\"X def loop key\",key)\n        print(\"value shape\",value.shape)\n        temp = [key,value]\n        dictlist.append(value)\n    return dictlist\n\ndef get_keras_np(X_in):\n    return np.array(list(X_in.items()),dtype=object)\n# np.array(list(result.items()), dtype=dtype)\n\n# the deployment API for Watson Studio can only take a list/array, not a dictionary, so define list-only version for input\nX_train, X_train_list = get_keras_vars(dtrain)\nX_valid, X_valid_list = get_keras_vars(dvalid)\nX_test,X_test_list = get_keras_vars(test)\nprint(\"keras variables defined\")\nprint(\"X_train_list\",X_train_list)\n\n\n\n"
        }, 
        {
            "source": "# Define and fit model <a name='modelfit' />\n<a href=#linkanchor>Back to link list</a>", 
            "cell_type": "markdown", 
            "metadata": {}
        }, 
        {
            "execution_count": 48, 
            "cell_type": "code", 
            "metadata": {}, 
            "outputs": [
                {
                    "output_type": "stream", 
                    "name": "stdout", 
                    "text": "about to define embeddings\nabout to define embeddings\ntextmax is 7000\ncol SUBJECT\ntext input shape 5999\nmax in the midst 5999\nthrough loops for cols\nthrough definition of non-text parts of main_l\nmain_l Tensor(\"concatenate_12/concat:0\", shape=(?, ?), dtype=float32)\n__________________________________________________________________________________________________\nLayer (type)                    Output Shape         Param #     Connected to                     \n==================================================================================================\nACCOUNT_NAME (InputLayer)       (None, 1)            0                                            \n__________________________________________________________________________________________________\nCASE_OWNER_ALIAS (InputLayer)   (None, 1)            0                                            \n__________________________________________________________________________________________________\nembedding_9 (Embedding)         (None, 1, 10)        22150       ACCOUNT_NAME[0][0]               \n__________________________________________________________________________________________________\nembedding_11 (Embedding)        (None, 1, 10)        2690        CASE_OWNER_ALIAS[0][0]           \n__________________________________________________________________________________________________\nOPERATING_SYSTEM (InputLayer)   (None, 1)            0                                            \n__________________________________________________________________________________________________\nbatch_normalization_9 (BatchNor (None, 1, 10)        40          embedding_9[0][0]                \n__________________________________________________________________________________________________\nbatch_normalization_11 (BatchNo (None, 1, 10)        40          embedding_11[0][0]               \n__________________________________________________________________________________________________\nembedding_1 (Embedding)         (None, 1, 10)        60          OPERATING_SYSTEM[0][0]           \n__________________________________________________________________________________________________\nACCOUNT_PRIORITY (InputLayer)   (None, 1)            0                                            \n__________________________________________________________________________________________________\nflatten_1 (Flatten)             (None, 10)           0           batch_normalization_9[0][0]      \n__________________________________________________________________________________________________\nflatten_2 (Flatten)             (None, 10)           0           batch_normalization_11[0][0]     \n__________________________________________________________________________________________________\nbatch_normalization_1 (BatchNor (None, 1, 10)        40          embedding_1[0][0]                \n__________________________________________________________________________________________________\nembedding_2 (Embedding)         (None, 1, 10)        190         ACCOUNT_PRIORITY[0][0]           \n__________________________________________________________________________________________________\nBLUE_DIAMOND_ACCOUNT (InputLaye (None, 1)            0                                            \n__________________________________________________________________________________________________\ndropout_2 (Dropout)             (None, 10)           0           flatten_1[0][0]                  \n__________________________________________________________________________________________________\ndropout_3 (Dropout)             (None, 10)           0           flatten_2[0][0]                  \n__________________________________________________________________________________________________\nflatten_3 (Flatten)             (None, 10)           0           batch_normalization_1[0][0]      \n__________________________________________________________________________________________________\nbatch_normalization_2 (BatchNor (None, 1, 10)        40          embedding_2[0][0]                \n__________________________________________________________________________________________________\nembedding_3 (Embedding)         (None, 1, 10)        20          BLUE_DIAMOND_ACCOUNT[0][0]       \n__________________________________________________________________________________________________\nSEVERITY_LEVEL_NUMBER_FORMULA ( (None, 1)            0                                            \n__________________________________________________________________________________________________\nconcatenate_1 (Concatenate)     (None, 20)           0           dropout_2[0][0]                  \n                                                                 dropout_3[0][0]                  \n__________________________________________________________________________________________________\ndropout_4 (Dropout)             (None, 10)           0           flatten_3[0][0]                  \n__________________________________________________________________________________________________\nflatten_4 (Flatten)             (None, 10)           0           batch_normalization_2[0][0]      \n__________________________________________________________________________________________________\nbatch_normalization_3 (BatchNor (None, 1, 10)        40          embedding_3[0][0]                \n__________________________________________________________________________________________________\nembedding_4 (Embedding)         (None, 1, 10)        40          SEVERITY_LEVEL_NUMBER_FORMULA[0][\n__________________________________________________________________________________________________\nPRODUCT_VERSION (InputLayer)    (None, 1)            0                                            \n__________________________________________________________________________________________________\nconcatenate_2 (Concatenate)     (None, 30)           0           concatenate_1[0][0]              \n                                                                 dropout_4[0][0]                  \n__________________________________________________________________________________________________\ndropout_5 (Dropout)             (None, 10)           0           flatten_4[0][0]                  \n__________________________________________________________________________________________________\nflatten_5 (Flatten)             (None, 10)           0           batch_normalization_3[0][0]      \n__________________________________________________________________________________________________\nbatch_normalization_4 (BatchNor (None, 1, 10)        40          embedding_4[0][0]                \n__________________________________________________________________________________________________\nembedding_5 (Embedding)         (None, 1, 10)        430         PRODUCT_VERSION[0][0]            \n__________________________________________________________________________________________________\nPRODUCT_NAME (InputLayer)       (None, 1)            0                                            \n__________________________________________________________________________________________________\nconcatenate_3 (Concatenate)     (None, 40)           0           concatenate_2[0][0]              \n                                                                 dropout_5[0][0]                  \n__________________________________________________________________________________________________\ndropout_6 (Dropout)             (None, 10)           0           flatten_5[0][0]                  \n__________________________________________________________________________________________________\nflatten_6 (Flatten)             (None, 10)           0           batch_normalization_4[0][0]      \n__________________________________________________________________________________________________\nbatch_normalization_5 (BatchNor (None, 1, 10)        40          embedding_5[0][0]                \n__________________________________________________________________________________________________\nembedding_6 (Embedding)         (None, 1, 10)        280         PRODUCT_NAME[0][0]               \n__________________________________________________________________________________________________\nSUPPORT_MISSION (InputLayer)    (None, 1)            0                                            \n__________________________________________________________________________________________________\nconcatenate_4 (Concatenate)     (None, 50)           0           concatenate_3[0][0]              \n                                                                 dropout_6[0][0]                  \n__________________________________________________________________________________________________\ndropout_7 (Dropout)             (None, 10)           0           flatten_6[0][0]                  \n__________________________________________________________________________________________________\nflatten_7 (Flatten)             (None, 10)           0           batch_normalization_5[0][0]      \n__________________________________________________________________________________________________\nbatch_normalization_6 (BatchNor (None, 1, 10)        40          embedding_6[0][0]                \n__________________________________________________________________________________________________\nembedding_7 (Embedding)         (None, 1, 10)        10          SUPPORT_MISSION[0][0]            \n__________________________________________________________________________________________________\nCREATED_BY (InputLayer)         (None, 1)            0                                            \n__________________________________________________________________________________________________\nconcatenate_5 (Concatenate)     (None, 60)           0           concatenate_4[0][0]              \n                                                                 dropout_7[0][0]                  \n__________________________________________________________________________________________________\ndropout_8 (Dropout)             (None, 10)           0           flatten_7[0][0]                  \n__________________________________________________________________________________________________\nflatten_8 (Flatten)             (None, 10)           0           batch_normalization_6[0][0]      \n__________________________________________________________________________________________________\nbatch_normalization_7 (BatchNor (None, 1, 10)        40          embedding_7[0][0]                \n__________________________________________________________________________________________________\nembedding_8 (Embedding)         (None, 1, 10)        22760       CREATED_BY[0][0]                 \n__________________________________________________________________________________________________\nLEGACY_PROBLEM_NUMBER (InputLay (None, 1)            0                                            \n__________________________________________________________________________________________________\nconcatenate_6 (Concatenate)     (None, 70)           0           concatenate_5[0][0]              \n                                                                 dropout_8[0][0]                  \n__________________________________________________________________________________________________\ndropout_9 (Dropout)             (None, 10)           0           flatten_8[0][0]                  \n__________________________________________________________________________________________________\nflatten_9 (Flatten)             (None, 10)           0           batch_normalization_7[0][0]      \n__________________________________________________________________________________________________\nbatch_normalization_8 (BatchNor (None, 1, 10)        40          embedding_8[0][0]                \n__________________________________________________________________________________________________\nembedding_10 (Embedding)        (None, 1, 10)        20          LEGACY_PROBLEM_NUMBER[0][0]      \n__________________________________________________________________________________________________\nSUBJECT (InputLayer)            (None, 5999)         0                                            \n__________________________________________________________________________________________________\nconcatenate_7 (Concatenate)     (None, 80)           0           concatenate_6[0][0]              \n                                                                 dropout_9[0][0]                  \n__________________________________________________________________________________________________\ndropout_10 (Dropout)            (None, 10)           0           flatten_9[0][0]                  \n__________________________________________________________________________________________________\nflatten_10 (Flatten)            (None, 10)           0           batch_normalization_8[0][0]      \n__________________________________________________________________________________________________\nbatch_normalization_10 (BatchNo (None, 1, 10)        40          embedding_10[0][0]               \n__________________________________________________________________________________________________\nembedding_12 (Embedding)        (None, 5999, 50)     350000      SUBJECT[0][0]                    \n__________________________________________________________________________________________________\nconcatenate_8 (Concatenate)     (None, 90)           0           concatenate_7[0][0]              \n                                                                 dropout_10[0][0]                 \n__________________________________________________________________________________________________\ndropout_11 (Dropout)            (None, 10)           0           flatten_10[0][0]                 \n__________________________________________________________________________________________________\nflatten_11 (Flatten)            (None, 10)           0           batch_normalization_10[0][0]     \n__________________________________________________________________________________________________\nbatch_normalization_12 (BatchNo (None, 5999, 50)     200         embedding_12[0][0]               \n__________________________________________________________________________________________________\nconcatenate_9 (Concatenate)     (None, 100)          0           concatenate_8[0][0]              \n                                                                 dropout_11[0][0]                 \n__________________________________________________________________________________________________\ndropout_12 (Dropout)            (None, 10)           0           flatten_11[0][0]                 \n__________________________________________________________________________________________________\ngru_1 (GRU)                     (None, 16)           3216        batch_normalization_12[0][0]     \n__________________________________________________________________________________________________\nconcatenate_10 (Concatenate)    (None, 110)          0           concatenate_9[0][0]              \n                                                                 dropout_12[0][0]                 \n__________________________________________________________________________________________________\ndropout_1 (Dropout)             (None, 16)           0           gru_1[0][0]                      \n__________________________________________________________________________________________________\nconcatenate_11 (Concatenate)    (None, 126)          0           concatenate_10[0][0]             \n                                                                 dropout_1[0][0]                  \n__________________________________________________________________________________________________\nOWNERSHIP_CHANGES (InputLayer)  (None, 1)            0                                            \n__________________________________________________________________________________________________\nconcatenate_12 (Concatenate)    (None, 127)          0           concatenate_11[0][0]             \n                                                                 OWNERSHIP_CHANGES[0][0]          \n__________________________________________________________________________________________________\ndense_1 (Dense)                 (None, 1)            128         concatenate_12[0][0]             \n==================================================================================================\nTotal params: 402,634\nTrainable params: 402,314\nNon-trainable params: 320\n__________________________________________________________________________________________________\n"
                }
            ], 
            "source": "# define model in keras\n\n# basic imports\n\n\ndef onehot(x): return np.array(OneHotEncoder().fit_transform(x.reshape(-1,1)).todense())\n\n# original lambda l2_lambda = 0.0001\n# for 5 x increase in dataset, increase lambda 5x\n\n\ndef get_callbacks(filepath, patience=2):\n    es = EarlyStopping('val_loss', patience=patience, mode=\"min\")\n    msave = ModelCheckpoint(filepath, save_best_only=True)\n    return [es, msave]\n\n\ndef get_model():\n    \n   \n    #Inputs\n    # name = Input(shape=[X_train[\"name\"].shape[1]], name=\"name\")\n    #Prob_Abstract_Text = Input(shape=[X_train[\"Prob_Abstract_Text\"].shape[1]], name=\"Prob_Abstract_Text\")\n    # Country = Input(shape=[1], name=\"Country\")\n    # Release = Input(shape=[1], name=\"Release\")\n    #Release_Linear = Input(shape=[1], name=\"Release_Linear\")\n    #Report_Date_days = Input(shape=[1], name=\"Report_Date_days\")\n    \n    catinputs = {}\n    textinputs = {}\n    continputs = {}\n    embeddings = {}\n    textembeddings = {}\n    catemb = 10\n    textemb = 50\n    \n    print(\"about to define embeddings\")\n    \n    print(\"about to define embeddings\")\n    collistfix = []\n    textlayerlist = []\n    inputlayerlist = []\n    i = 0\n    print(\"textmax is\",textmax)\n    # categorical columns\n    for col in collist:\n        catinputs[col] = Input(shape=[1],name=col)\n        inputlayerlist.append(catinputs[col])\n        #print(\"inputname\",inputname)\n        #print(\"type inputname\",type(inputname))\n        #print(\"catinputs[col] type\", type(catinputs[col]))\n        #catinputs[col] = Input(shape=[1],name=col)\n        embeddings[col] = (Embedding(max_dict[col],catemb) (catinputs[col]))\n        # batchnorm all \n        embeddings[col] = (BatchNormalization() (embeddings[col]))\n        collistfix.append(embeddings[col])\n    \n    \n    \n    # text columns\n    if includetext:    \n        for col in textcols:\n            print(\"col\",col)\n            textinputs[col] = Input(shape=[X_train[col].shape[1]], name=col)\n            print(\"text input shape\",X_train[col].shape[1])\n            inputlayerlist.append(textinputs[col])\n            textembeddings[col] = (Embedding(textmax,textemb) (textinputs[col]))\n            textembeddings[col] = (BatchNormalization() (textembeddings[col])) \n            textembeddings[col] = Dropout(dropout_rate) ( GRU(16,kernel_regularizer=l2(l2_lambda)) (textembeddings[col]))\n            collistfix.append(textembeddings[col])\n            print(\"max in the midst\",np.max([np.max(train[col].max()), np.max(test[col].max())])+10)\n        print(\"through loops for cols\")\n        #textcols = ['Other_Reason_for_Cancellation', 'Reason_for_Reopening', 'Resolution_Description', 'Subject']\n        # continuous columns\n    for col in continuouscols: \n        continputs[col] = Input(shape=[1],name=col)\n        inputlayerlist.append(continputs[col])\n    \n    \n    #rnn layer here if there were text fields\n        \n    # rnn_layer1 = Dropout(dropout_rate) ( GRU(16,kernel_regularizer=l2(l2_lambda)) (emb_Abstract))\n    # rnn_layer2 = GRU(8) (emb_name)\n    \n    #concatlist = []\n    #for cols in collist:\n    #    concatlist = concatlist+(Dropout(dropout_rate) (Flatten() (embeddings[cols])))\n    #print(\"concatlist\",concatlist)\n    # 'ACCOUNT_NAME', 'CASE_OWNER_ALIAS'\n          \n    # main_l = concatenate([\n    main_l = concatenate([Dropout(dropout_rate) (Flatten() (embeddings['ACCOUNT_NAME']) ),Dropout(dropout_rate) (Flatten() (embeddings['CASE_OWNER_ALIAS']) )])\n    for cols in collist:\n        if (cols != 'ACCOUNT_NAME') & (cols != 'CASE_OWNER_ALIAS'):\n            main_l = concatenate([main_l,Dropout(dropout_rate) (Flatten() (embeddings[cols]) )])\n    \n    print(\"through definition of non-text parts of main_l\")\n    if includetext:\n        for col in textcols:\n            main_l = concatenate([main_l,textembeddings[col]])\n                                                 \n    for col in continuouscols:\n        main_l = concatenate([main_l,continputs[col]])\n    \n    print(\"main_l\", main_l)                                            \n    \n    # originally 2 dense layers here, sizes were 128 / 64 \n    #main_l2 = Dropout(dr_r) (Dense(128,kernel_regularizer=l2(l2_lambda)) (main_l))\n    # main_l3 = Dropout(dropout_rate) (Dense(32,kernel_regularizer=l2(l2_lambda)) (main_l))\n    \n    #output\n    # change to softmax for TTRthreshold\n    #output = Dense(1, activation=\"linear\") (main_l)\n    #output = Dense(1, activation=\"softmax\") (main_l)\n    \n    \n    #output = Dense(1, activation=\"sigmoid\") (main_l)\n    output = Dense(1, activation=\"sigmoid\") (main_l)\n    # output = Dense(1, activation=\"linear\") (main_l)\n    \n    #model\n        \n    # model = Model([Country,Release,Comp_name,Initial_Severity_Linear, Owner_ID,Customer,Technical_Resolver_ID, System_Down_Indicator, Prob_Abstract_Text], output)\n    # model = Model([Country,Release,Product,Initial_Severity_Linear, Owner_ID,Customer,Technical_Resolver_ID, Prob_Abstract_Text], output)\n    #model = Model([Country,Release_Linear,Product,Initial_Severity_Linear, Owner_ID,Customer,Technical_Resolver_ID, Prob_Abstract_Text], output)\n    # [Country, Report_Date_days,Comp_name,Initial_Severity_Linear, Owner_ID,Customer,Technical_Resolver_ID, Prob_Abstract_Text, Release_Linear]\n                                                   \n    model = Model(inputlayerlist, output)\n    \n    # model = Model([Country,Release,Product,Initial_Severity_Linear,Customer,Technical_Resolver_ID, Prob_Abstract_Text], output)\n    # optimizer = SGD(lr=0.01, momentum=0.4)\n    \n    \n    # optimizer = Adam(lr=learning_rate)\n    optimizer = SGD(lr=learning_rate)\n   \n    # optimizer = SGD(lr=0.5)\n    # model.compile(loss=\"binary_crossentropy\", optimizer=optimizer, metrics=[\"accuracy\"])\n    model.compile(loss=\"binary_crossentropy\", optimizer=optimizer, metrics=[\"accuracy\"], weighted_metrics=[\"accuracy\"])\n    # model.compile(loss=\"binary_crossentropy\", optimizer=optimizer, metrics=[\"accuracy\"])\n    \n      \n    \n    return model\n\n    \nmodel = get_model()\n#if dsxmode == False:\n   ## plot_model(model, to_file='/home/paperspace/visualizations/dmmodelplotmay23b.png', show_shapes=True, show_layer_names=True)\nmodel.summary()\n    \n\n    "
        }, 
        {
            "execution_count": 49, 
            "cell_type": "code", 
            "metadata": {}, 
            "outputs": [
                {
                    "output_type": "stream", 
                    "name": "stdout", 
                    "text": "text cols ['SUBJECT']\ndropout  0.0003\nL2 lambda  0.0003\nbatch size  200\nabout to define embeddings\nabout to define embeddings\ntextmax is 7000\ncol SUBJECT\ntext input shape 5999\nmax in the midst 5999\nthrough loops for cols\nthrough definition of non-text parts of main_l\nmain_l Tensor(\"concatenate_24/concat:0\", shape=(?, ?), dtype=float32)\nTrain on 5950 samples, validate on 1488 samples\nEpoch 1/10\n5950/5950 [==============================] - 165s 28ms/step - loss: 1.3696 - acc: 0.5126 - weighted_acc: 0.9591 - val_loss: 0.6674 - val_acc: 0.7903 - val_weighted_acc: 0.7903\nEpoch 2/10\n5950/5950 [==============================] - 162s 27ms/step - loss: 1.2522 - acc: 0.5696 - weighted_acc: 1.0281 - val_loss: 0.6654 - val_acc: 0.8071 - val_weighted_acc: 0.8071\nEpoch 3/10\n5950/5950 [==============================] - 164s 27ms/step - loss: 1.1803 - acc: 0.6059 - weighted_acc: 1.1006 - val_loss: 0.6622 - val_acc: 0.8259 - val_weighted_acc: 0.8259\nEpoch 4/10\n5950/5950 [==============================] - 163s 27ms/step - loss: 1.1334 - acc: 0.6413 - weighted_acc: 1.1844 - val_loss: 0.6577 - val_acc: 0.8481 - val_weighted_acc: 0.8481\nEpoch 5/10\n5950/5950 [==============================] - 162s 27ms/step - loss: 1.0809 - acc: 0.6842 - weighted_acc: 1.2876 - val_loss: 0.6527 - val_acc: 0.8562 - val_weighted_acc: 0.8562\nEpoch 6/10\n5950/5950 [==============================] - 161s 27ms/step - loss: 1.0396 - acc: 0.7030 - weighted_acc: 1.3185 - val_loss: 0.6460 - val_acc: 0.8683 - val_weighted_acc: 0.8683\nEpoch 7/10\n5950/5950 [==============================] - 162s 27ms/step - loss: 1.0137 - acc: 0.7178 - weighted_acc: 1.3453 - val_loss: 0.6381 - val_acc: 0.8703 - val_weighted_acc: 0.8703\nEpoch 8/10\n5950/5950 [==============================] - 162s 27ms/step - loss: 0.9816 - acc: 0.7187 - weighted_acc: 1.3582 - val_loss: 0.6292 - val_acc: 0.8737 - val_weighted_acc: 0.8737\nEpoch 9/10\n5950/5950 [==============================] - 162s 27ms/step - loss: 0.9507 - acc: 0.7311 - weighted_acc: 1.3948 - val_loss: 0.6195 - val_acc: 0.8690 - val_weighted_acc: 0.8690\nEpoch 10/10\n5950/5950 [==============================] - 162s 27ms/step - loss: 0.9307 - acc: 0.7573 - weighted_acc: 1.3969 - val_loss: 0.6087 - val_acc: 0.8602 - val_weighted_acc: 0.8602\n"
                }
            ], 
            "source": "BATCH_SIZE = 200\nepochs = 10\nprint(\"text cols\",textcols)\nprint(\"dropout \",dropout_rate)\nprint(\"L2 lambda \",l2_lambda)\nprint(\"batch size \",BATCH_SIZE)\n\n\nmodel = get_model()\nmodelfit = model.fit(X_train_list, dtrain.target, epochs=epochs, batch_size=BATCH_SIZE\n         , validation_data=(X_valid_list, dvalid.target),class_weight = {0 : zero_weight, 1: one_weight}, verbose=1)"
        }, 
        {
            "execution_count": 51, 
            "cell_type": "code", 
            "metadata": {}, 
            "outputs": [
                {
                    "output_type": "stream", 
                    "name": "stdout", 
                    "text": "Saved model, weights, tokenizer and label encoder to disk\n"
                }
            ], 
            "source": "if savemodel == True:\n    model_json = model.to_json()\n    with open('/home/paperspace/models/modelaug4.json', \"w\") as json_file:\n        json_file.write(model_json)\n    # serialize weights to HDF5\n    model.save_weights('/home/paperspace/models/dmweightsaug4.h5')\n    \n    # save tokenizer tok_raw for text and label encoder for categorical cols\n    with open('/home/paperspace/models/tokenizeraug4.pickle', 'wb') as handle:\n        pickle.dump(tok_raw, handle, protocol=pickle.HIGHEST_PROTOCOL)\n    with open('/home/paperspace/models/leaug4.pickle', 'wb') as handle2:\n        pickle.dump(lelist, handle2, protocol=pickle.HIGHEST_PROTOCOL)\n    print(\"Saved model, weights, tokenizer and label encoder to disk\")\n    with open('/home/paperspace/models/neaug4.pickle', 'wb') as handle3:\n        pickle.dump(nearempty, handle3, protocol=pickle.HIGHEST_PROTOCOL)\n    model.save('/home/paperspace/models/dmmodelaug4.h5')\n    # nearempty"
        }, 
        {
            "source": "# Load saved model and weights <a name='reload' />\n<a href=#linkanchor>Back to link list</a>", 
            "cell_type": "markdown", 
            "metadata": {}
        }, 
        {
            "execution_count": null, 
            "cell_type": "code", 
            "metadata": {}, 
            "outputs": [], 
            "source": "from keras.models import model_from_json\njson_file = open('/home/paperspace/models/modeljune3c.json', 'r')\nloaded_model_json = json_file.read()\njson_file.close()\nloaded_model = model_from_json(loaded_model_json)\nloaded_model.load_weights('/home/paperspace/models/DMweightsjune3c.h5')\noptimizer = SGD(lr=learning_rate)\nloaded_model.compile(loss=\"binary_crossentropy\", optimizer=optimizer, metrics=[\"accuracy\"], weighted_metrics=[\"accuracy\"])"
        }, 
        {
            "execution_count": null, 
            "cell_type": "code", 
            "metadata": {}, 
            "outputs": [], 
            "source": "if presaved == True:\n    from keras.models import model_from_json\n    json_file = open('/home/paperspace/models/modeljune3c.json', 'r')\n    loaded_model_json = json_file.read()\n    json_file.close()\n    loaded_model = model_from_json(loaded_model_json)\n    loaded_model.load_weights('/home/paperspace/models/DMweightsjune3c.h5')\n    optimizer = SGD(lr=learning_rate)\n    loaded_model.compile(loss=\"binary_crossentropy\", optimizer=optimizer, metrics=[\"accuracy\"], weighted_metrics=[\"accuracy\"])\n    "
        }, 
        {
            "execution_count": null, 
            "cell_type": "code", 
            "metadata": {}, 
            "outputs": [], 
            "source": "if presaved == True:\n    BATCH_SIZE = 200\n    epochs = 1\n    modelfit2 = new_model.fit(X_train, dtrain.target, epochs=epochs, batch_size=BATCH_SIZE\n         , validation_data=(X_valid, dvalid.target),class_weight = {0 : zero_weight, 1: one_weight}, verbose=1)"
        }, 
        {
            "execution_count": null, 
            "cell_type": "code", 
            "metadata": {}, 
            "outputs": [], 
            "source": "# loaded_model.save('/home/paperspace/models/pickledmodeljune7.p')"
        }, 
        {
            "execution_count": null, 
            "cell_type": "code", 
            "metadata": {}, 
            "outputs": [], 
            "source": "new_model.summary()"
        }, 
        {
            "source": "# Block to pickle model so it can be ingested in Watson Studio\n1. load saved model\n2. run make_keras_picklable()\n3. pickle model", 
            "cell_type": "markdown", 
            "metadata": {}
        }, 
        {
            "execution_count": 4, 
            "cell_type": "code", 
            "metadata": {}, 
            "outputs": [], 
            "source": "import types\nimport tempfile\nimport keras.models\n\ndef make_keras_picklable():\n    def __getstate__(self):\n        model_str = \"\"\n        with tempfile.NamedTemporaryFile(suffix='.hdf5', delete=True) as fd:\n            keras.models.save_model(self, fd.name, overwrite=True)\n            model_str = fd.read()\n        d = { 'model_str': model_str }\n        return d\n\n    def __setstate__(self, state):\n        with tempfile.NamedTemporaryFile(suffix='.hdf5', delete=True) as fd:\n            fd.write(state['model_str'])\n            fd.flush()\n            model = keras.models.load_model(fd.name)\n        self.__dict__ = model.__dict__\n\n\n    cls = keras.models.Model\n    cls.__getstate__ = __getstate__\n    cls.__setstate__ = __setstate__"
        }, 
        {
            "execution_count": 5, 
            "cell_type": "code", 
            "metadata": {}, 
            "outputs": [], 
            "source": "from keras.models import load_model\nnew_model = load_model('/home/paperspace/models/DMmodelaug2.h5')"
        }, 
        {
            "execution_count": 6, 
            "cell_type": "code", 
            "metadata": {}, 
            "outputs": [], 
            "source": "make_keras_picklable()"
        }, 
        {
            "execution_count": 7, 
            "cell_type": "code", 
            "metadata": {}, 
            "outputs": [], 
            "source": "with open('/home/paperspace/models/pickledmodelaug2.pickle', 'wb') as handle:\n        pickle.dump(new_model, handle, protocol=pickle.HIGHEST_PROTOCOL)"
        }, 
        {
            "execution_count": null, 
            "cell_type": "code", 
            "metadata": {}, 
            "outputs": [], 
            "source": "with open('/home/paperspace/models/pickledmodeljune7.pickle', 'rb') as pickle_file:\n    newest_model = pickle.load(pickle_file)\n"
        }, 
        {
            "execution_count": null, 
            "cell_type": "code", 
            "metadata": {}, 
            "outputs": [], 
            "source": "type(newest_model)"
        }, 
        {
            "execution_count": null, 
            "cell_type": "code", 
            "metadata": {}, 
            "outputs": [], 
            "source": "new_model.summary()"
        }, 
        {
            "source": "# Advanced visualizations", 
            "cell_type": "markdown", 
            "metadata": {}
        }, 
        {
            "execution_count": null, 
            "cell_type": "code", 
            "metadata": {}, 
            "outputs": [], 
            "source": "new_model.layers"
        }, 
        {
            "execution_count": null, 
            "cell_type": "code", 
            "metadata": {}, 
            "outputs": [], 
            "source": "type(new_model.layers)"
        }, 
        {
            "execution_count": null, 
            "cell_type": "code", 
            "metadata": {}, 
            "outputs": [], 
            "source": "new_model.layers[2]"
        }, 
        {
            "execution_count": null, 
            "cell_type": "code", 
            "metadata": {}, 
            "outputs": [], 
            "source": "new_model.layers[2].name"
        }, 
        {
            "execution_count": null, 
            "cell_type": "code", 
            "metadata": {}, 
            "outputs": [], 
            "source": "type(new_model.layers[2])"
        }, 
        {
            "execution_count": null, 
            "cell_type": "code", 
            "metadata": {}, 
            "outputs": [], 
            "source": "new_model.layers[2].input[0]"
        }, 
        {
            "execution_count": null, 
            "cell_type": "code", 
            "metadata": {}, 
            "outputs": [], 
            "source": "# get weights from an embedding layer\nnew_model.layers[2].get_weights()"
        }, 
        {
            "execution_count": null, 
            "cell_type": "code", 
            "metadata": {}, 
            "outputs": [], 
            "source": "new_model.layers[2].get_weights()[0].shape"
        }, 
        {
            "execution_count": null, 
            "cell_type": "code", 
            "metadata": {}, 
            "outputs": [], 
            "source": "new_model.layers[2].get_weights()[0]"
        }, 
        {
            "execution_count": null, 
            "cell_type": "code", 
            "metadata": {}, 
            "outputs": [], 
            "source": "new_model.layers[2].get_weights()[0][0]"
        }, 
        {
            "execution_count": null, 
            "cell_type": "code", 
            "metadata": {}, 
            "outputs": [], 
            "source": "type(new_model.layers[2].get_weights()[0])"
        }, 
        {
            "execution_count": null, 
            "cell_type": "code", 
            "metadata": {}, 
            "outputs": [], 
            "source": "type(new_model.layers[2].get_weights()[0][0])"
        }, 
        {
            "execution_count": null, 
            "cell_type": "code", 
            "metadata": {}, 
            "outputs": [], 
            "source": "import os\n\nos.getcwd()"
        }, 
        {
            "execution_count": null, 
            "cell_type": "code", 
            "metadata": {}, 
            "outputs": [], 
            "source": "def get_embedding(model,embeddingname,embeddinglayer):\n# pd.DataFrame(data=data[1:,1:],    # values\n# ...              index=data[1:,0],    # 1st column as index\n# ...              columns=data[0,1:]) \n    # new_model.layers[2].get_weights()\n    # data=data[1:,1:]\n    df = pd.DataFrame(data=model.layers[embeddinglayer].get_weights()[0][0:,0:])\n    return(df)\n    \n    "
        }, 
        {
            "execution_count": null, 
            "cell_type": "code", 
            "metadata": {}, 
            "outputs": [], 
            "source": "embedding_df.head()"
        }, 
        {
            "execution_count": null, 
            "cell_type": "code", 
            "metadata": {}, 
            "outputs": [], 
            "source": "# attempt to adapt cryptic example at https://stackoverflow.com/questions/41665390/is-it-possible-to-visualize-keras-embeddings-in-tensorboard/41707319#41707319\n\n# to launch: command line:  tensorboard --logdir=path/to/log-directory\n# tensorboard --logdir=/tmp/tfboard\n# tensorboard --logdir tfboard\n# Once TensorBoard is running, navigate your web browser to localhost:6006 to view the TensorBoard\n\n\nimport os\n\nimport keras\nimport tensorflow\n\nROOT_DIR = '/tmp/tfboard'\n\nos.makedirs(ROOT_DIR, exist_ok=True)\nembeddingname = 'embedding_31'\nembeddinglayer = 2\n\n\nOUTPUT_MODEL_FILE_NAME = os.path.join(ROOT_DIR,'tf.ckpt')\n\n# get the keras model\n# model = get_model()\n# get the tensor name from the embedding layer\n# embeddings.Embedding\n# tensor_name = next(filter(lambda x: x.name == 'embedding', newest_model.layers)).W.name\n\n# tensor_name = \n\n# ACCOUNT_NAME is embedding_31, aka new_model.layers[2]\ntensor_name = next(filter(lambda x: x.name == embeddingname, new_model.layers)).output.name\nprint(\"tensor_name\",tensor_name)\n\n# the vocabulary\n# metadata_file_name = os.path.join(ROOT_DIR,tensor_name)\nmetadata_file_name = os.path.join(ROOT_DIR,embeddingname)\nprint(\"metadata_file_name\",metadata_file_name)\n\nembedding_df = get_embedding(new_model,embeddingname,embeddinglayer) # don't have a native definition for this\nprint(\"defined embedding_df\")\nprint(\"df shape\",embedding_df.shape)\nembedding_df.head(5)\nprint(\"after defined embedding_df\")\n\nembedding_df.to_csv(metadata_file_name, header=False, columns=[]) # columns=[] means no columns written\n\n\nsaver = tensorflow.train.Saver() # The Saver class adds ops to save and restore variables to and from checkpoints. It also provides convenience methods to run these ops.\nsaver.save(keras.backend.get_session(), OUTPUT_MODEL_FILE_NAME) # This method runs the ops added by the constructor for saving variables. It requires a session in which the graph was launched. The variables to save must also have been initialized.\n# session is keras.backend.get_session() - Returns the TF session to be used by the backend.\n\n\n# summary_writer = tensorflow.train.SummaryWriter(ROOT_DIR) # tf.train.SummaryWriter is deprecated, instead use tf.summary.FileWriter\nsummary_writer = tensorflow.summary.FileWriter(ROOT_DIR)\n\nconfig = tensorflow.contrib.tensorboard.plugins.projector.ProjectorConfig()\nembedding = config.embeddings.add()\nembedding.tensor_name = tensor_name\nembedding.metadata_path = metadata_file_name\ntensorflow.contrib.tensorboard.plugins.projector.visualize_embeddings(summary_writer, config)\n"
        }, 
        {
            "execution_count": null, 
            "cell_type": "code", 
            "metadata": {}, 
            "outputs": [], 
            "source": "tensor_name"
        }, 
        {
            "execution_count": null, 
            "cell_type": "code", 
            "metadata": {}, 
            "outputs": [], 
            "source": "plot_model(newest_model, to_file='/home/paperspace/visualizations/dmmodelplotjune9b.png', show_shapes=True, show_layer_names=True)"
        }, 
        {
            "source": "# Predictions and renderings", 
            "cell_type": "markdown", 
            "metadata": {}
        }, 
        {
            "execution_count": null, 
            "cell_type": "code", 
            "metadata": {}, 
            "outputs": [], 
            "source": "# functions to parse and manipulate dates in the style of the input CSVs\nimport datetime\nfrom datetime import date\ndef create_date(year,month):\n    outdate = datetime.date(year,month,15)\n    return(outdate)\n\ndef parse_bic_date(bic_date_in):\n    year = int(bic_date_in[0:4])\n    month = int(bic_date_in[-2:])\n    return(year,month)\n\ndef create_date_from_bic(bic_date_in):\n    yr,mth = parse_bic_date(bic_date_in)\n    retdate = create_date(yr,mth)\n    return retdate\n\ndef get_datecomp_from_csvdate (csv_date):\n    day = int(csv_date[0:2])\n    # month_number = datetime.datetime.strptime(month_name, '%b').month\n    month = datetime.datetime.strptime(csv_date[3:6], '%b').month\n    year = int('20'+csv_date[-2:])\n    # year = int(csv_date[-2:])\n    return (year,month,day)\n\ndef get_date_from_csvdate (csv_date):\n    day = int(csv_date[0:2])\n    # month_number = datetime.datetime.strptime(month_name, '%b').month\n    month = datetime.datetime.strptime(csv_date[3:6], '%b',coerce=True).month\n    year = int('20'+csv_date[-2:])\n    # year = int(csv_date[-2:])\n    return (date(year,month,day))\n\ndef get_year_from_csvdate (csv_date):\n    year = int('20'+csv_date[-2:])\n    return (year)\n\ndef get_month_from_csvdate (csv_date):\n    month = datetime.datetime.strptime(csv_date[3:6], '%b',coerce=True).month\n    return (month)\n\ndef get_day_from_csvdate (csv_date):\n    day = int(csv_date[0:2])\n    return (day)\n\ndef get_weekday (date):\n    return(date.weekday())\n\n# pd.to_datetime(x, coerce=True)\n\ndef validatedate(csv_text):\n    try:\n        datetime.datetime.strptime(csv_date[3:6], '%b')\n    except ValueError:\n        raise ValueError(\"Incorrect data format, should be YYYY-MM-DD\")"
        }, 
        {
            "execution_count": null, 
            "cell_type": "code", 
            "metadata": {}, 
            "outputs": [], 
            "source": "# predictions on training set\n\npreds = model.predict(X_train, batch_size=BATCH_SIZE)"
        }, 
        {
            "execution_count": null, 
            "cell_type": "code", 
            "metadata": {}, 
            "outputs": [], 
            "source": "len(lelist)"
        }, 
        {
            "execution_count": null, 
            "cell_type": "code", 
            "metadata": {}, 
            "outputs": [], 
            "source": "preds.shape"
        }, 
        {
            "execution_count": null, 
            "cell_type": "code", 
            "metadata": {
                "scrolled": true
            }, 
            "outputs": [], 
            "source": "preds[:50]"
        }, 
        {
            "execution_count": null, 
            "cell_type": "code", 
            "metadata": {}, 
            "outputs": [], 
            "source": "dtrain[\"predict\"] = preds\ndtrain.predict[:5]\nif verboseout:\n    dtrain.predict.hist()"
        }, 
        {
            "execution_count": null, 
            "cell_type": "code", 
            "metadata": {}, 
            "outputs": [], 
            "source": "if verboseout:\n    dtrain.predict.hist(bins=2)"
        }, 
        {
            "execution_count": null, 
            "cell_type": "code", 
            "metadata": {}, 
            "outputs": [], 
            "source": "# print(type(apar_ds['Time_to_relief'].iloc[0]))\nprint(type(preds))\nprint(preds.shape)\nprint(type(dtrain.target))"
        }, 
        {
            "execution_count": null, 
            "cell_type": "code", 
            "metadata": {}, 
            "outputs": [], 
            "source": "# get rounded predictions \ndtrain[\"predround\"] = preds.round().astype(int)\ndtrain.predround[:5]"
        }, 
        {
            "execution_count": null, 
            "cell_type": "code", 
            "metadata": {}, 
            "outputs": [], 
            "source": "# get delta between predictions on training set and actual training target values\n# hand calculate accuracy on training set as ratio of (total training samples - wrong training predictions)/total training samples\n\ndeltatr = abs(dtrain.target[:100000] - dtrain.predround[:100000])\ndeltatr[:50]\nprint(deltatr.sum())\nprint(\"percentage correct train\")\nprint((len(deltatr) - deltatr.sum())/len(deltatr))\n\n"
        }, 
        {
            "execution_count": null, 
            "cell_type": "code", 
            "metadata": {}, 
            "outputs": [], 
            "source": "# predict values for validation X values\n# X_valid, dvalid.target\npredval = model.predict(X_valid, batch_size=BATCH_SIZE)\ndvalid[\"predround\"] = predval.round().astype(int)\ndvalid[\"predict\"] = predval\n#print(type(deltaval))\n#print(len(deltaval))\ndvalid.predict[:5]\n\n\n\n"
        }, 
        {
            "execution_count": null, 
            "cell_type": "code", 
            "metadata": {}, 
            "outputs": [], 
            "source": "if verboseout:\n    dvalid.predict.hist(bins=2)"
        }, 
        {
            "execution_count": null, 
            "cell_type": "code", 
            "metadata": {}, 
            "outputs": [], 
            "source": "# hand calculation of proportion correct guesses in validation set\n\ndvalid[\"deltaval\"] = abs(dvalid.target - dvalid.predround)\nprint(dvalid[\"deltaval\"][:10])\nprint(dvalid[\"deltaval\"].sum())\n# print(\"percentage correct\")\n# print((len(deltaval) - deltaval.sum())/len(deltaval))\n"
        }, 
        {
            "execution_count": null, 
            "cell_type": "code", 
            "metadata": {}, 
            "outputs": [], 
            "source": "# get subset of dataframe with wrong guesses\n# k1 = df.loc[(df.Product == p_id)\ndvalidwrong = dvalid.loc[(dvalid.deltaval == 1)]\ndvalidright = dvalid.loc[(dvalid.deltaval == 0)]\ndvalidwrong.head(20)"
        }, 
        {
            "execution_count": null, 
            "cell_type": "code", 
            "metadata": {}, 
            "outputs": [], 
            "source": "dvalidright.head(20)"
        }, 
        {
            "execution_count": null, 
            "cell_type": "code", 
            "metadata": {}, 
            "outputs": [], 
            "source": "# dvalid.hist(range = (0,5))\n# apar_ds.Time_to_relief.hist(range = (0,5))\ndvalid.predict.hist()"
        }, 
        {
            "execution_count": null, 
            "cell_type": "code", 
            "metadata": {}, 
            "outputs": [], 
            "source": "# ,encoding = \"ISO-8859-1\"\nif dsxmode == False:\n    dvalidwrong.to_csv('/home/paperspace/data/dmprediction/dvalidwrongmay20.csv')"
        }, 
        {
            "execution_count": null, 
            "cell_type": "code", 
            "metadata": {}, 
            "outputs": [], 
            "source": "dtrain.target[:50]"
        }, 
        {
            "execution_count": null, 
            "cell_type": "code", 
            "metadata": {}, 
            "outputs": [], 
            "source": "# get delta between predictions on training set and actual training target values\n# hand calculate accuracy on training set as ratio of (total training samples - wrong training predictions)/total training samples\n\ndeltatr = abs(dvalid.target[:100000] - dvalid.predround[:100000])\ndeltatr[:50]\nprint(deltatr.sum())\nprint(\"percentage correct validate\")\nprint((len(deltatr) - deltatr.sum())/len(deltatr))\n"
        }, 
        {
            "execution_count": null, 
            "cell_type": "code", 
            "metadata": {}, 
            "outputs": [], 
            "source": "# chart accuracy and loss for train and validation sets\n\nprint(modelfit.history.keys())\n#  acc\nplt.plot(modelfit.history['acc'])\nplt.plot(modelfit.history['val_acc'])\nplt.title('model accuracy')\nplt.ylabel('accuracy')\nplt.xlabel('epoch')\nplt.legend(['train', 'validation'], loc='upper left')\nplt.show()\n# Loss\nplt.plot(modelfit.history['loss'])\nplt.plot(modelfit.history['val_loss'])\nplt.title('model loss')\nplt.ylabel('loss')\nplt.xlabel('epoch')\nplt.legend(['train', 'validation'], loc='upper left')\nplt.show()"
        }, 
        {
            "source": "# Confusion matrix <a name='confusionmatrix' />\n<a href=#linkanchor>Back to link list</a>", 
            "cell_type": "markdown", 
            "metadata": {}
        }, 
        {
            "execution_count": null, 
            "cell_type": "code", 
            "metadata": {}, 
            "outputs": [], 
            "source": "from sklearn import metrics\n\ncfmap=metrics.confusion_matrix(y_true=dvalid['target'],  # True labels\n                         y_pred=dvalid[\"predround\"])\n\nlabel = [\"0\", \"1\"]\nsns.heatmap(cfmap, annot = True, xticklabels = label, yticklabels = label)\nplt.xlabel(\"Prediction\")\nplt.title(\"Confusion Matrix for DM prediction (weighted)\")\nplt.show()"
        }, 
        {
            "execution_count": null, 
            "cell_type": "code", 
            "metadata": {}, 
            "outputs": [], 
            "source": "model.metrics_names"
        }, 
        {
            "execution_count": null, 
            "cell_type": "code", 
            "metadata": {}, 
            "outputs": [], 
            "source": "list(le.classes_)"
        }, 
        {
            "source": "# Kaggle submission that was used as input for this notebook\nhttps://www.kaggle.com/knowledgegrappler/a-simple-nn-solution-with-keras-0-48611-pl", 
            "cell_type": "markdown", 
            "metadata": {}
        }, 
        {
            "source": "# Summary\nThis notebook shows methods for dealing with structured data in the context of a neural network.\n\n# Author\n\nMark Ryan is a manager at IBM Canada.\n\nCopyright \u00a9 IBM Corp. 2018. This notebook and its source code are released under the terms of the MIT License.", 
            "cell_type": "markdown", 
            "metadata": {
                "collapsed": true
            }
        }, 
        {
            "execution_count": null, 
            "cell_type": "code", 
            "metadata": {}, 
            "outputs": [], 
            "source": ""
        }, 
        {
            "execution_count": null, 
            "cell_type": "code", 
            "metadata": {}, 
            "outputs": [], 
            "source": ""
        }
    ], 
    "metadata": {
        "kernelspec": {
            "display_name": "Python 3.5", 
            "name": "python3", 
            "language": "python"
        }, 
        "language_info": {
            "mimetype": "text/x-python", 
            "nbconvert_exporter": "python", 
            "version": "3.5.5", 
            "name": "python", 
            "file_extension": ".py", 
            "pygments_lexer": "ipython3", 
            "codemirror_mode": {
                "version": 3, 
                "name": "ipython"
            }
        }
    }, 
    "nbformat": 4
}